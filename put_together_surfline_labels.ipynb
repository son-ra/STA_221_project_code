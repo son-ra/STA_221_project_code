{
 "cells": [
  {
   "cell_type": "code",
   "execution_count": 1,
   "id": "ff140d56-56a0-4ea0-970e-baa4ff8d5562",
   "metadata": {},
   "outputs": [],
   "source": [
    "import xarray as xr\n",
    "import cftime\n",
    "import numpy as np\n",
    "import pandas as pd\n",
    "import matplotlib.pyplot as plt\n",
    "import re\n",
    "import os\n",
    "import time\n",
    "import logging\n",
    "import cartopy.crs as ccrs\n",
    "import metpy  # accessor needed to parse crs\n",
    "import calendar\n",
    "import argparse\n",
    "import math"
   ]
  },
  {
   "cell_type": "code",
   "execution_count": 8,
   "id": "386f0a53-b62a-4809-b1fe-59ba586ab123",
   "metadata": {},
   "outputs": [],
   "source": [
    "all_files = os.listdir(\"agate_beach\") + os.listdir(\"Surfline_July2022\") + os.listdir(\"surfline_ranbom_batch\")\n"
   ]
  },
  {
   "cell_type": "code",
   "execution_count": 11,
   "id": "1356a7c5-d6c0-495a-a433-ac1cfab88d4d",
   "metadata": {},
   "outputs": [],
   "source": [
    "agate = pd.read_csv(\"labels_agate_2023.csv\")\n",
    "july2022 = pd.read_csv(\"labels_surfline_july2022.csv\")\n",
    "random = pd.read_csv(\"labels_surfline_random_batch1.csv\")"
   ]
  },
  {
   "cell_type": "code",
   "execution_count": 31,
   "id": "d7c8e276-2b10-44ab-941a-fb1c77062cf1",
   "metadata": {},
   "outputs": [],
   "source": [
    "all_labels = pd.concat([agate, july2022, random])\n",
    "all_labels = all_labels.reset_index(drop=True) \n"
   ]
  },
  {
   "cell_type": "code",
   "execution_count": 33,
   "id": "1133f57a-1772-4458-ba76-87cd56e3bf74",
   "metadata": {},
   "outputs": [
    {
     "data": {
      "text/html": [
       "<div>\n",
       "<style scoped>\n",
       "    .dataframe tbody tr th:only-of-type {\n",
       "        vertical-align: middle;\n",
       "    }\n",
       "\n",
       "    .dataframe tbody tr th {\n",
       "        vertical-align: top;\n",
       "    }\n",
       "\n",
       "    .dataframe thead th {\n",
       "        text-align: right;\n",
       "    }\n",
       "</style>\n",
       "<table border=\"1\" class=\"dataframe\">\n",
       "  <thead>\n",
       "    <tr style=\"text-align: right;\">\n",
       "      <th></th>\n",
       "      <th>Url</th>\n",
       "      <th>Label</th>\n",
       "      <th>LabelConfidence</th>\n",
       "      <th>link</th>\n",
       "      <th>photo</th>\n",
       "    </tr>\n",
       "  </thead>\n",
       "  <tbody>\n",
       "    <tr>\n",
       "      <th>0</th>\n",
       "      <td>AmlDatastore://workspaceblobstore/UI/2023-07-1...</td>\n",
       "      <td>not_foggy</td>\n",
       "      <td>1</td>\n",
       "      <td>2023_05-18.0730_agatebeachor.jpg</td>\n",
       "      <td>2023_05-18.0730_agatebeachor.jpg</td>\n",
       "    </tr>\n",
       "    <tr>\n",
       "      <th>1</th>\n",
       "      <td>AmlDatastore://workspaceblobstore/UI/2023-07-1...</td>\n",
       "      <td>not_foggy</td>\n",
       "      <td>1</td>\n",
       "      <td>2023_05-03.1930_agatebeachor.jpg</td>\n",
       "      <td>2023_05-03.1930_agatebeachor.jpg</td>\n",
       "    </tr>\n",
       "    <tr>\n",
       "      <th>2</th>\n",
       "      <td>AmlDatastore://workspaceblobstore/UI/2023-07-1...</td>\n",
       "      <td>not_foggy</td>\n",
       "      <td>1</td>\n",
       "      <td>2023_05-18.1630_agatebeachor.jpg</td>\n",
       "      <td>2023_05-18.1630_agatebeachor.jpg</td>\n",
       "    </tr>\n",
       "    <tr>\n",
       "      <th>3</th>\n",
       "      <td>AmlDatastore://workspaceblobstore/UI/2023-07-1...</td>\n",
       "      <td>not_foggy</td>\n",
       "      <td>1</td>\n",
       "      <td>2023_05-18.2030_agatebeachor.jpg</td>\n",
       "      <td>2023_05-18.2030_agatebeachor.jpg</td>\n",
       "    </tr>\n",
       "    <tr>\n",
       "      <th>4</th>\n",
       "      <td>AmlDatastore://workspaceblobstore/UI/2023-07-1...</td>\n",
       "      <td>uncertain</td>\n",
       "      <td>1</td>\n",
       "      <td>2023_05-14.2330_agatebeachor.jpg</td>\n",
       "      <td>2023_05-14.2330_agatebeachor.jpg</td>\n",
       "    </tr>\n",
       "    <tr>\n",
       "      <th>...</th>\n",
       "      <td>...</td>\n",
       "      <td>...</td>\n",
       "      <td>...</td>\n",
       "      <td>...</td>\n",
       "      <td>...</td>\n",
       "    </tr>\n",
       "    <tr>\n",
       "      <th>8932</th>\n",
       "      <td>AmlDatastore://workspaceblobstore/UI/2023-10-2...</td>\n",
       "      <td>foggy</td>\n",
       "      <td>1</td>\n",
       "      <td>2022_09-28.2100_otterrockor.jpg</td>\n",
       "      <td>2022_09-28.2100_otterrockor.jpg</td>\n",
       "    </tr>\n",
       "    <tr>\n",
       "      <th>8933</th>\n",
       "      <td>AmlDatastore://workspaceblobstore/UI/2023-10-2...</td>\n",
       "      <td>not_foggy</td>\n",
       "      <td>1</td>\n",
       "      <td>2023_08-20.1400_otterrockor.jpg</td>\n",
       "      <td>2023_08-20.1400_otterrockor.jpg</td>\n",
       "    </tr>\n",
       "    <tr>\n",
       "      <th>8934</th>\n",
       "      <td>AmlDatastore://workspaceblobstore/UI/2023-10-2...</td>\n",
       "      <td>foggy</td>\n",
       "      <td>1</td>\n",
       "      <td>2022_08-18.1900_agatebeachor.jpg</td>\n",
       "      <td>2022_08-18.1900_agatebeachor.jpg</td>\n",
       "    </tr>\n",
       "    <tr>\n",
       "      <th>8935</th>\n",
       "      <td>AmlDatastore://workspaceblobstore/UI/2023-10-2...</td>\n",
       "      <td>not_foggy</td>\n",
       "      <td>1</td>\n",
       "      <td>2023_06-14.1130_cannonbeach.jpg</td>\n",
       "      <td>2023_06-14.1130_cannonbeach.jpg</td>\n",
       "    </tr>\n",
       "    <tr>\n",
       "      <th>8936</th>\n",
       "      <td>AmlDatastore://workspaceblobstore/UI/2023-10-2...</td>\n",
       "      <td>not_foggy</td>\n",
       "      <td>1</td>\n",
       "      <td>2023_07-08.1630_pacificcityor.jpg</td>\n",
       "      <td>2023_07-08.1630_pacificcityor.jpg</td>\n",
       "    </tr>\n",
       "  </tbody>\n",
       "</table>\n",
       "<p>8937 rows × 5 columns</p>\n",
       "</div>"
      ],
      "text/plain": [
       "                                                    Url      Label  \\\n",
       "0     AmlDatastore://workspaceblobstore/UI/2023-07-1...  not_foggy   \n",
       "1     AmlDatastore://workspaceblobstore/UI/2023-07-1...  not_foggy   \n",
       "2     AmlDatastore://workspaceblobstore/UI/2023-07-1...  not_foggy   \n",
       "3     AmlDatastore://workspaceblobstore/UI/2023-07-1...  not_foggy   \n",
       "4     AmlDatastore://workspaceblobstore/UI/2023-07-1...  uncertain   \n",
       "...                                                 ...        ...   \n",
       "8932  AmlDatastore://workspaceblobstore/UI/2023-10-2...      foggy   \n",
       "8933  AmlDatastore://workspaceblobstore/UI/2023-10-2...  not_foggy   \n",
       "8934  AmlDatastore://workspaceblobstore/UI/2023-10-2...      foggy   \n",
       "8935  AmlDatastore://workspaceblobstore/UI/2023-10-2...  not_foggy   \n",
       "8936  AmlDatastore://workspaceblobstore/UI/2023-10-2...  not_foggy   \n",
       "\n",
       "      LabelConfidence                               link  \\\n",
       "0                   1   2023_05-18.0730_agatebeachor.jpg   \n",
       "1                   1   2023_05-03.1930_agatebeachor.jpg   \n",
       "2                   1   2023_05-18.1630_agatebeachor.jpg   \n",
       "3                   1   2023_05-18.2030_agatebeachor.jpg   \n",
       "4                   1   2023_05-14.2330_agatebeachor.jpg   \n",
       "...               ...                                ...   \n",
       "8932                1    2022_09-28.2100_otterrockor.jpg   \n",
       "8933                1    2023_08-20.1400_otterrockor.jpg   \n",
       "8934                1   2022_08-18.1900_agatebeachor.jpg   \n",
       "8935                1    2023_06-14.1130_cannonbeach.jpg   \n",
       "8936                1  2023_07-08.1630_pacificcityor.jpg   \n",
       "\n",
       "                                  photo  \n",
       "0      2023_05-18.0730_agatebeachor.jpg  \n",
       "1      2023_05-03.1930_agatebeachor.jpg  \n",
       "2      2023_05-18.1630_agatebeachor.jpg  \n",
       "3      2023_05-18.2030_agatebeachor.jpg  \n",
       "4      2023_05-14.2330_agatebeachor.jpg  \n",
       "...                                 ...  \n",
       "8932    2022_09-28.2100_otterrockor.jpg  \n",
       "8933    2023_08-20.1400_otterrockor.jpg  \n",
       "8934   2022_08-18.1900_agatebeachor.jpg  \n",
       "8935    2023_06-14.1130_cannonbeach.jpg  \n",
       "8936  2023_07-08.1630_pacificcityor.jpg  \n",
       "\n",
       "[8937 rows x 5 columns]"
      ]
     },
     "execution_count": 33,
     "metadata": {},
     "output_type": "execute_result"
    }
   ],
   "source": [
    "all_labels\n",
    "all_labels['photo'] = all_labels['Url'].apply(\n",
    "    lambda x: re.sub(r'AmlDatastore://workspaceblobstore/UI/.*UTC/.*/'\n",
    "                     ,'',x))\n",
    "all_labels\n"
   ]
  },
  {
   "cell_type": "code",
   "execution_count": 30,
   "id": "96ce85ed-3267-4801-b905-09812cab1aa5",
   "metadata": {},
   "outputs": [
    {
     "data": {
      "text/plain": [
       "8937"
      ]
     },
     "execution_count": 30,
     "metadata": {},
     "output_type": "execute_result"
    }
   ],
   "source": [
    "all_labels.link.nunique()"
   ]
  },
  {
   "cell_type": "code",
   "execution_count": 34,
   "id": "b2c3da11-f591-4f2a-ac33-a06b865f2a1e",
   "metadata": {},
   "outputs": [],
   "source": [
    "all_labels.to_csv(\"surfline_photo_labels.csv\", index = False)"
   ]
  }
 ],
 "metadata": {
  "kernelspec": {
   "display_name": "Python 3 (ipykernel)",
   "language": "python",
   "name": "python3"
  },
  "language_info": {
   "codemirror_mode": {
    "name": "ipython",
    "version": 3
   },
   "file_extension": ".py",
   "mimetype": "text/x-python",
   "name": "python",
   "nbconvert_exporter": "python",
   "pygments_lexer": "ipython3",
   "version": "3.9.7"
  }
 },
 "nbformat": 4,
 "nbformat_minor": 5
}
