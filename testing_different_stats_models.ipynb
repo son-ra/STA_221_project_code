{
 "cells": [
  {
   "cell_type": "code",
   "execution_count": 1,
   "id": "c9af840a-98d3-4570-9af4-970aef51a529",
   "metadata": {},
   "outputs": [],
   "source": [
    "import skimage\n",
    "import os\n",
    "from skimage import io\n",
    "import matplotlib.pyplot as plt\n",
    "from skimage.color import rgb2gray\n",
    "from skimage.color import rgb2hsv\n",
    "import re\n",
    "import numpy as np\n",
    "import seaborn as sns\n",
    "## for the stats class\n",
    "import scipy.signal as sg\n",
    "from skimage.transform import rescale, resize, downscale_local_mean\n",
    "from sklearn.decomposition import SparsePCA\n",
    "import pywt\n",
    "from scipy import stats\n",
    "import timeit \n",
    "#import optshrink as opt # package we create\n",
    "import numpy as np\n",
    "# import scipy.io as sio\n",
    "import h5py\n",
    "import matplotlib.pyplot as plt\n",
    "from scipy.stats import gaussian_kde\n",
    "import seaborn as sns\n",
    "import pandas as pd\n",
    "from datetime import datetime\n",
    "import pytz\n",
    "from sklearn.mixture import GaussianMixture\n",
    "from matplotlib.colors import LogNorm\n",
    "from skimage import io\n",
    "from patchify import patchify, unpatchify\n",
    "%matplotlib inline\n",
    "\n",
    "\n",
    "\n",
    "import collections\n",
    "# from itertools import chain\n",
    "# import urllib.request as request\n",
    "# import pickle \n",
    "\n",
    "import numpy as np\n",
    "\n",
    "import scipy.signal as signal\n",
    "import scipy.special as special\n",
    "import scipy.optimize as optimize\n",
    "\n",
    "import matplotlib.pyplot as plt\n",
    "\n",
    "import skimage.io\n",
    "import skimage.transform\n",
    "\n",
    "# import cv2\n",
    "\n",
    "# from libsvm import svmutil\n",
    "from sklearn.model_selection import train_test_split\n",
    "\n"
   ]
  },
  {
   "cell_type": "code",
   "execution_count": 13,
   "id": "4e758142-b8f2-4cf2-87d3-d3edd2303e66",
   "metadata": {},
   "outputs": [],
   "source": [
    "fog_aware_pivot = pd.read_csv('fog_aware_stats_pivot.csv')\n",
    "fog_aware_pivot['Label_train'] = 1*(fog_aware_pivot['Label']=='foggy')"
   ]
  },
  {
   "cell_type": "code",
   "execution_count": 14,
   "id": "9d1b9704-b387-4fd7-b70e-eb3e194ca607",
   "metadata": {},
   "outputs": [
    {
     "data": {
      "text/plain": [
       "Label_train  Label    \n",
       "0            not_foggy    6851\n",
       "1            foggy        1776\n",
       "dtype: int64"
      ]
     },
     "execution_count": 14,
     "metadata": {},
     "output_type": "execute_result"
    }
   ],
   "source": [
    "fog_aware_pivot[['Label_train', 'Label']].value_counts()"
   ]
  },
  {
   "cell_type": "code",
   "execution_count": 28,
   "id": "9ec5c0c0-8118-4a66-8013-72659a61c6ef",
   "metadata": {},
   "outputs": [],
   "source": [
    "from sklearn import preprocessing\n",
    "X = np.array(fog_aware_pivot[['mscn_var_0', 'mscn_var_1',\n",
    "       'mscn_var_2', 'mscn_var_3', 'vertical_var_0', 'vertical_var_1',\n",
    "       'vertical_var_2', 'vertical_var_3', 'sharpness_0', 'sharpness_1',\n",
    "       'sharpness_2', 'sharpness_3', 'coef_or_var_sharpness_0',\n",
    "       'coef_or_var_sharpness_1', 'coef_or_var_sharpness_2',\n",
    "       'coef_or_var_sharpness_3', 'entropy_0',\n",
    "       'entropy_1', 'entropy_2', 'entropy_3', \n",
    "       'color_sat_0', 'color_sat_1', 'color_sat_2', 'color_sat_3', 'CF_0',\n",
    "       'CF_1', 'CF_2', 'CF_3']].dropna()\n",
    "            )\n",
    "####scale to mean and std\n",
    "\n",
    "scaler = preprocessing.StandardScaler().fit(X)\n",
    "X_scaled = scaler.transform(X)\n",
    "\n",
    "y = np.array(fog_aware_pivot['Label_train'])\n",
    "# from sklearn.model_selection import StratifiedKFold\n",
    "# skf = StratifiedKFold(n_splits=2)     \n",
    "# next(skf.split(X, y))\n",
    "from sklearn.model_selection import train_test_split\n",
    "\n",
    "X_train, X_test, y_train, y_test = train_test_split(\n",
    "        X_scaled, y, test_size=0.20, random_state=42, stratify = y)\n",
    "\n",
    "n_classes = len(np.unique(y_train))\n"
   ]
  },
  {
   "cell_type": "code",
   "execution_count": 29,
   "id": "848e8bbe-d100-4b42-8d35-8dea685d2dec",
   "metadata": {},
   "outputs": [
    {
     "name": "stdout",
     "output_type": "stream",
     "text": [
      "Train accuracy: 0.92\n",
      "Test accuracy: 0.92\n"
     ]
    },
    {
     "name": "stderr",
     "output_type": "stream",
     "text": [
      "/Users/sonra/.local/lib/python3.9/site-packages/sklearn/linear_model/_logistic.py:444: ConvergenceWarning: lbfgs failed to converge (status=1):\n",
      "STOP: TOTAL NO. of ITERATIONS REACHED LIMIT.\n",
      "\n",
      "Increase the number of iterations (max_iter) or scale the data as shown in:\n",
      "    https://scikit-learn.org/stable/modules/preprocessing.html\n",
      "Please also refer to the documentation for alternative solver options:\n",
      "    https://scikit-learn.org/stable/modules/linear_model.html#logistic-regression\n",
      "  n_iter_i = _check_optimize_result(\n"
     ]
    }
   ],
   "source": [
    "##### logistic regression\n",
    "from sklearn.linear_model import LogisticRegression\n",
    "clf = LogisticRegression(random_state=0).fit(X_train, y_train)\n",
    "y_train_pred = clf.predict(X_train)\n",
    "train_accuracy = np.mean(y_train_pred.ravel() == y_train.ravel()) \n",
    "print( 'Train accuracy: %.2f' % train_accuracy)\n",
    "\n",
    "y_test_pred = clf.predict(X_test)\n",
    "test_accuracy = np.mean(y_test_pred.ravel() == y_test.ravel())\n",
    "print('Test accuracy: %.2f' % test_accuracy)\n"
   ]
  },
  {
   "cell_type": "code",
   "execution_count": 37,
   "id": "f2f2e133-9c2e-43c7-b2a9-d436d4ddaabc",
   "metadata": {},
   "outputs": [
    {
     "name": "stdout",
     "output_type": "stream",
     "text": [
      "Train accuracy: 0.94\n",
      "Test accuracy: 0.92\n"
     ]
    }
   ],
   "source": [
    "##### support vector machine\n",
    "from sklearn import svm\n",
    "regr = svm.SVR()\n",
    "regr.fit(X_train, y_train)\n",
    "\n",
    "threshold = 0.5\n",
    "\n",
    "y_train_pred = regr.predict(X_train)\n",
    "# Apply the logic to convert probabilities to binary values\n",
    "y_train_pred_binary = (y_train_pred > threshold).astype(int)\n",
    "train_accuracy = np.mean(y_train_pred_binary.ravel() == y_train.ravel()) \n",
    "print( 'Train accuracy: %.2f' % train_accuracy)\n",
    "\n",
    "y_test_pred = regr.predict(X_test)\n",
    "y_test_pred_binary = (y_test_pred > threshold).astype(int)\n",
    "test_accuracy = np.mean(y_test_pred_binary.ravel() == y_test.ravel())\n",
    "print('Test accuracy: %.2f' % test_accuracy)\n"
   ]
  },
  {
   "cell_type": "code",
   "execution_count": 33,
   "id": "152640e8-e2fa-4e3e-bd25-c73558d19d6e",
   "metadata": {},
   "outputs": [
    {
     "data": {
      "text/plain": [
       "array([0, 0, 1, ..., 1, 0, 0])"
      ]
     },
     "execution_count": 33,
     "metadata": {},
     "output_type": "execute_result"
    }
   ],
   "source": [
    "y_train"
   ]
  },
  {
   "cell_type": "code",
   "execution_count": null,
   "id": "f61b7832-dbfa-4bc3-b30e-0d5fc13e7591",
   "metadata": {},
   "outputs": [],
   "source": [
    "#### random forest"
   ]
  },
  {
   "cell_type": "code",
   "execution_count": 20,
   "id": "21760840-946e-4b34-9a6c-4389f475e30d",
   "metadata": {},
   "outputs": [
    {
     "name": "stdout",
     "output_type": "stream",
     "text": [
      "Train accuracy: 0.49\n",
      "Test accuracy: 0.49\n"
     ]
    }
   ],
   "source": [
    "#### GMM\n",
    "\n",
    "gmm = GaussianMixture(n_components=n_classes\n",
    "                    # ,covariance_type='diag'\n",
    "                      , init_params='random_from_data')\n",
    "gmm.fit(X_train)\n",
    "y_train_pred = gmm.predict(X_train)\n",
    "train_accuracy = np.mean(y_train_pred == y_train) \n",
    "print( 'Train accuracy: %.2f' % train_accuracy)\n",
    "\n",
    "y_test_pred = gmm.predict(X_test)\n",
    "test_accuracy = np.mean(y_test_pred.ravel() == y_test.ravel())\n",
    "print('Test accuracy: %.2f' % test_accuracy)\n"
   ]
  }
 ],
 "metadata": {
  "kernelspec": {
   "display_name": "Python 3 (ipykernel)",
   "language": "python",
   "name": "python3"
  },
  "language_info": {
   "codemirror_mode": {
    "name": "ipython",
    "version": 3
   },
   "file_extension": ".py",
   "mimetype": "text/x-python",
   "name": "python",
   "nbconvert_exporter": "python",
   "pygments_lexer": "ipython3",
   "version": "3.9.7"
  }
 },
 "nbformat": 4,
 "nbformat_minor": 5
}
