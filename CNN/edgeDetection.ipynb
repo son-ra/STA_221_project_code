{
 "cells": [
  {
   "cell_type": "code",
   "execution_count": 2,
   "metadata": {},
   "outputs": [
    {
     "name": "stdout",
     "output_type": "stream",
     "text": [
      "Collecting opencv-python\n",
      "  Downloading opencv_python-4.8.1.78-cp37-abi3-win_amd64.whl.metadata (20 kB)\n",
      "Requirement already satisfied: numpy>=1.17.0 in c:\\users\\kshitij\\appdata\\local\\programs\\python\\python37\\lib\\site-packages (from opencv-python) (1.21.6)\n",
      "Downloading opencv_python-4.8.1.78-cp37-abi3-win_amd64.whl (38.1 MB)\n",
      "   ---------------------------------------- 38.1/38.1 MB 12.6 MB/s eta 0:00:00\n",
      "Installing collected packages: opencv-python\n",
      "Successfully installed opencv-python-4.8.1.78\n",
      "Note: you may need to restart the kernel to use updated packages.\n"
     ]
    }
   ],
   "source": [
    "%pip install opencv-python"
   ]
  },
  {
   "cell_type": "code",
   "execution_count": 2,
   "metadata": {},
   "outputs": [],
   "source": [
    "import os\n",
    "import numpy as np\n",
    "import pandas as pd\n",
    "from sklearn.model_selection import train_test_split\n",
    "from sklearn.preprocessing import LabelEncoder\n",
    "from tensorflow.keras.preprocessing.image import load_img, img_to_array\n",
    "from tensorflow.keras.utils import to_categorical\n",
    "from tensorflow.keras.models import Sequential\n",
    "from tensorflow.keras.layers import Conv2D, MaxPooling2D, Flatten, Dense\n",
    "from tensorflow.keras.optimizers import Adam\n",
    "from tensorflow.keras.callbacks import EarlyStopping\n",
    "import cv2\n",
    "from sklearn.metrics import classification_report, confusion_matrix, roc_auc_score, roc_curve, precision_recall_curve, auc\n",
    "import matplotlib.pyplot as plt\n",
    "from sklearn.metrics import roc_curve, auc"
   ]
  },
  {
   "cell_type": "code",
   "execution_count": 3,
   "metadata": {},
   "outputs": [],
   "source": [
    "# Load CSV file\n",
    "csv_path = 'E:/STA 221/surfline_photo_labels.csv'\n",
    "df = pd.read_csv(csv_path)\n",
    "\n",
    "# Set image directory\n",
    "img_dir = 'E:/STA 221/all_surfline_photos/'"
   ]
  },
  {
   "cell_type": "code",
   "execution_count": 4,
   "metadata": {},
   "outputs": [
    {
     "data": {
      "text/html": [
       "<div>\n",
       "<style scoped>\n",
       "    .dataframe tbody tr th:only-of-type {\n",
       "        vertical-align: middle;\n",
       "    }\n",
       "\n",
       "    .dataframe tbody tr th {\n",
       "        vertical-align: top;\n",
       "    }\n",
       "\n",
       "    .dataframe thead th {\n",
       "        text-align: right;\n",
       "    }\n",
       "</style>\n",
       "<table border=\"1\" class=\"dataframe\">\n",
       "  <thead>\n",
       "    <tr style=\"text-align: right;\">\n",
       "      <th></th>\n",
       "      <th>Url</th>\n",
       "      <th>Label</th>\n",
       "      <th>LabelConfidence</th>\n",
       "      <th>link</th>\n",
       "      <th>photo</th>\n",
       "    </tr>\n",
       "  </thead>\n",
       "  <tbody>\n",
       "    <tr>\n",
       "      <th>0</th>\n",
       "      <td>AmlDatastore://workspaceblobstore/UI/2023-07-1...</td>\n",
       "      <td>1</td>\n",
       "      <td>1</td>\n",
       "      <td>2023_05-18.0730_agatebeachor.jpg</td>\n",
       "      <td>2023_05-18.0730_agatebeachor.jpg</td>\n",
       "    </tr>\n",
       "    <tr>\n",
       "      <th>1</th>\n",
       "      <td>AmlDatastore://workspaceblobstore/UI/2023-07-1...</td>\n",
       "      <td>1</td>\n",
       "      <td>1</td>\n",
       "      <td>2023_05-03.1930_agatebeachor.jpg</td>\n",
       "      <td>2023_05-03.1930_agatebeachor.jpg</td>\n",
       "    </tr>\n",
       "    <tr>\n",
       "      <th>2</th>\n",
       "      <td>AmlDatastore://workspaceblobstore/UI/2023-07-1...</td>\n",
       "      <td>1</td>\n",
       "      <td>1</td>\n",
       "      <td>2023_05-18.1630_agatebeachor.jpg</td>\n",
       "      <td>2023_05-18.1630_agatebeachor.jpg</td>\n",
       "    </tr>\n",
       "    <tr>\n",
       "      <th>3</th>\n",
       "      <td>AmlDatastore://workspaceblobstore/UI/2023-07-1...</td>\n",
       "      <td>1</td>\n",
       "      <td>1</td>\n",
       "      <td>2023_05-18.2030_agatebeachor.jpg</td>\n",
       "      <td>2023_05-18.2030_agatebeachor.jpg</td>\n",
       "    </tr>\n",
       "    <tr>\n",
       "      <th>5</th>\n",
       "      <td>AmlDatastore://workspaceblobstore/UI/2023-07-1...</td>\n",
       "      <td>1</td>\n",
       "      <td>1</td>\n",
       "      <td>2023_05-30.2100_agatebeachor.jpg</td>\n",
       "      <td>2023_05-30.2100_agatebeachor.jpg</td>\n",
       "    </tr>\n",
       "    <tr>\n",
       "      <th>...</th>\n",
       "      <td>...</td>\n",
       "      <td>...</td>\n",
       "      <td>...</td>\n",
       "      <td>...</td>\n",
       "      <td>...</td>\n",
       "    </tr>\n",
       "    <tr>\n",
       "      <th>8932</th>\n",
       "      <td>AmlDatastore://workspaceblobstore/UI/2023-10-2...</td>\n",
       "      <td>0</td>\n",
       "      <td>1</td>\n",
       "      <td>2022_09-28.2100_otterrockor.jpg</td>\n",
       "      <td>2022_09-28.2100_otterrockor.jpg</td>\n",
       "    </tr>\n",
       "    <tr>\n",
       "      <th>8933</th>\n",
       "      <td>AmlDatastore://workspaceblobstore/UI/2023-10-2...</td>\n",
       "      <td>1</td>\n",
       "      <td>1</td>\n",
       "      <td>2023_08-20.1400_otterrockor.jpg</td>\n",
       "      <td>2023_08-20.1400_otterrockor.jpg</td>\n",
       "    </tr>\n",
       "    <tr>\n",
       "      <th>8934</th>\n",
       "      <td>AmlDatastore://workspaceblobstore/UI/2023-10-2...</td>\n",
       "      <td>0</td>\n",
       "      <td>1</td>\n",
       "      <td>2022_08-18.1900_agatebeachor.jpg</td>\n",
       "      <td>2022_08-18.1900_agatebeachor.jpg</td>\n",
       "    </tr>\n",
       "    <tr>\n",
       "      <th>8935</th>\n",
       "      <td>AmlDatastore://workspaceblobstore/UI/2023-10-2...</td>\n",
       "      <td>1</td>\n",
       "      <td>1</td>\n",
       "      <td>2023_06-14.1130_cannonbeach.jpg</td>\n",
       "      <td>2023_06-14.1130_cannonbeach.jpg</td>\n",
       "    </tr>\n",
       "    <tr>\n",
       "      <th>8936</th>\n",
       "      <td>AmlDatastore://workspaceblobstore/UI/2023-10-2...</td>\n",
       "      <td>1</td>\n",
       "      <td>1</td>\n",
       "      <td>2023_07-08.1630_pacificcityor.jpg</td>\n",
       "      <td>2023_07-08.1630_pacificcityor.jpg</td>\n",
       "    </tr>\n",
       "  </tbody>\n",
       "</table>\n",
       "<p>8629 rows × 5 columns</p>\n",
       "</div>"
      ],
      "text/plain": [
       "                                                    Url  Label  \\\n",
       "0     AmlDatastore://workspaceblobstore/UI/2023-07-1...      1   \n",
       "1     AmlDatastore://workspaceblobstore/UI/2023-07-1...      1   \n",
       "2     AmlDatastore://workspaceblobstore/UI/2023-07-1...      1   \n",
       "3     AmlDatastore://workspaceblobstore/UI/2023-07-1...      1   \n",
       "5     AmlDatastore://workspaceblobstore/UI/2023-07-1...      1   \n",
       "...                                                 ...    ...   \n",
       "8932  AmlDatastore://workspaceblobstore/UI/2023-10-2...      0   \n",
       "8933  AmlDatastore://workspaceblobstore/UI/2023-10-2...      1   \n",
       "8934  AmlDatastore://workspaceblobstore/UI/2023-10-2...      0   \n",
       "8935  AmlDatastore://workspaceblobstore/UI/2023-10-2...      1   \n",
       "8936  AmlDatastore://workspaceblobstore/UI/2023-10-2...      1   \n",
       "\n",
       "      LabelConfidence                               link  \\\n",
       "0                   1   2023_05-18.0730_agatebeachor.jpg   \n",
       "1                   1   2023_05-03.1930_agatebeachor.jpg   \n",
       "2                   1   2023_05-18.1630_agatebeachor.jpg   \n",
       "3                   1   2023_05-18.2030_agatebeachor.jpg   \n",
       "5                   1   2023_05-30.2100_agatebeachor.jpg   \n",
       "...               ...                                ...   \n",
       "8932                1    2022_09-28.2100_otterrockor.jpg   \n",
       "8933                1    2023_08-20.1400_otterrockor.jpg   \n",
       "8934                1   2022_08-18.1900_agatebeachor.jpg   \n",
       "8935                1    2023_06-14.1130_cannonbeach.jpg   \n",
       "8936                1  2023_07-08.1630_pacificcityor.jpg   \n",
       "\n",
       "                                  photo  \n",
       "0      2023_05-18.0730_agatebeachor.jpg  \n",
       "1      2023_05-03.1930_agatebeachor.jpg  \n",
       "2      2023_05-18.1630_agatebeachor.jpg  \n",
       "3      2023_05-18.2030_agatebeachor.jpg  \n",
       "5      2023_05-30.2100_agatebeachor.jpg  \n",
       "...                                 ...  \n",
       "8932    2022_09-28.2100_otterrockor.jpg  \n",
       "8933    2023_08-20.1400_otterrockor.jpg  \n",
       "8934   2022_08-18.1900_agatebeachor.jpg  \n",
       "8935    2023_06-14.1130_cannonbeach.jpg  \n",
       "8936  2023_07-08.1630_pacificcityor.jpg  \n",
       "\n",
       "[8629 rows x 5 columns]"
      ]
     },
     "execution_count": 4,
     "metadata": {},
     "output_type": "execute_result"
    }
   ],
   "source": [
    "# Convert labels to lowercase\n",
    "df['Label'] = df['Label'].str.lower()\n",
    "\n",
    "# Drop rows with label \"uncertain\" in-place\n",
    "df.drop(df[df['Label'] == 'uncertain'].index, inplace=True)\n",
    "\n",
    "label_encoder = LabelEncoder()\n",
    "df['Label'] = label_encoder.fit_transform(df['Label'])\n",
    "df.loc[df['Label'] != 'uncertain']"
   ]
  },
  {
   "cell_type": "code",
   "execution_count": 5,
   "metadata": {},
   "outputs": [],
   "source": [
    "df.drop(df[df['photo'] == '2023_07-31.1800_cannonbeach.jpg'].index, inplace=True)"
   ]
  },
  {
   "cell_type": "code",
   "execution_count": 6,
   "metadata": {},
   "outputs": [
    {
     "name": "stdout",
     "output_type": "stream",
     "text": [
      "['foggy' 'not_foggy']\n"
     ]
    }
   ],
   "source": [
    "original_labels = label_encoder.classes_\n",
    "print(original_labels)"
   ]
  },
  {
   "cell_type": "code",
   "execution_count": 7,
   "metadata": {},
   "outputs": [
    {
     "name": "stdout",
     "output_type": "stream",
     "text": [
      "Label Counts:\n",
      "1    6853\n",
      "0    1776\n",
      "Name: Label, dtype: int64\n"
     ]
    }
   ],
   "source": [
    "label_counts = df['Label'].value_counts()\n",
    "\n",
    "print(\"Label Counts:\")\n",
    "print(label_counts)"
   ]
  },
  {
   "cell_type": "code",
   "execution_count": 8,
   "metadata": {},
   "outputs": [
    {
     "data": {
      "text/html": [
       "<div>\n",
       "<style scoped>\n",
       "    .dataframe tbody tr th:only-of-type {\n",
       "        vertical-align: middle;\n",
       "    }\n",
       "\n",
       "    .dataframe tbody tr th {\n",
       "        vertical-align: top;\n",
       "    }\n",
       "\n",
       "    .dataframe thead th {\n",
       "        text-align: right;\n",
       "    }\n",
       "</style>\n",
       "<table border=\"1\" class=\"dataframe\">\n",
       "  <thead>\n",
       "    <tr style=\"text-align: right;\">\n",
       "      <th></th>\n",
       "      <th>Url</th>\n",
       "      <th>Label</th>\n",
       "      <th>LabelConfidence</th>\n",
       "      <th>link</th>\n",
       "      <th>photo</th>\n",
       "    </tr>\n",
       "  </thead>\n",
       "  <tbody>\n",
       "    <tr>\n",
       "      <th>0</th>\n",
       "      <td>AmlDatastore://workspaceblobstore/UI/2023-07-1...</td>\n",
       "      <td>1</td>\n",
       "      <td>1</td>\n",
       "      <td>2023_05-18.0730_agatebeachor.jpg</td>\n",
       "      <td>2023_05-18.0730_agatebeachor.jpg</td>\n",
       "    </tr>\n",
       "    <tr>\n",
       "      <th>1</th>\n",
       "      <td>AmlDatastore://workspaceblobstore/UI/2023-07-1...</td>\n",
       "      <td>1</td>\n",
       "      <td>1</td>\n",
       "      <td>2023_05-03.1930_agatebeachor.jpg</td>\n",
       "      <td>2023_05-03.1930_agatebeachor.jpg</td>\n",
       "    </tr>\n",
       "    <tr>\n",
       "      <th>2</th>\n",
       "      <td>AmlDatastore://workspaceblobstore/UI/2023-07-1...</td>\n",
       "      <td>1</td>\n",
       "      <td>1</td>\n",
       "      <td>2023_05-18.1630_agatebeachor.jpg</td>\n",
       "      <td>2023_05-18.1630_agatebeachor.jpg</td>\n",
       "    </tr>\n",
       "    <tr>\n",
       "      <th>3</th>\n",
       "      <td>AmlDatastore://workspaceblobstore/UI/2023-07-1...</td>\n",
       "      <td>1</td>\n",
       "      <td>1</td>\n",
       "      <td>2023_05-18.2030_agatebeachor.jpg</td>\n",
       "      <td>2023_05-18.2030_agatebeachor.jpg</td>\n",
       "    </tr>\n",
       "    <tr>\n",
       "      <th>5</th>\n",
       "      <td>AmlDatastore://workspaceblobstore/UI/2023-07-1...</td>\n",
       "      <td>1</td>\n",
       "      <td>1</td>\n",
       "      <td>2023_05-30.2100_agatebeachor.jpg</td>\n",
       "      <td>2023_05-30.2100_agatebeachor.jpg</td>\n",
       "    </tr>\n",
       "    <tr>\n",
       "      <th>...</th>\n",
       "      <td>...</td>\n",
       "      <td>...</td>\n",
       "      <td>...</td>\n",
       "      <td>...</td>\n",
       "      <td>...</td>\n",
       "    </tr>\n",
       "    <tr>\n",
       "      <th>8932</th>\n",
       "      <td>AmlDatastore://workspaceblobstore/UI/2023-10-2...</td>\n",
       "      <td>0</td>\n",
       "      <td>1</td>\n",
       "      <td>2022_09-28.2100_otterrockor.jpg</td>\n",
       "      <td>2022_09-28.2100_otterrockor.jpg</td>\n",
       "    </tr>\n",
       "    <tr>\n",
       "      <th>8933</th>\n",
       "      <td>AmlDatastore://workspaceblobstore/UI/2023-10-2...</td>\n",
       "      <td>1</td>\n",
       "      <td>1</td>\n",
       "      <td>2023_08-20.1400_otterrockor.jpg</td>\n",
       "      <td>2023_08-20.1400_otterrockor.jpg</td>\n",
       "    </tr>\n",
       "    <tr>\n",
       "      <th>8934</th>\n",
       "      <td>AmlDatastore://workspaceblobstore/UI/2023-10-2...</td>\n",
       "      <td>0</td>\n",
       "      <td>1</td>\n",
       "      <td>2022_08-18.1900_agatebeachor.jpg</td>\n",
       "      <td>2022_08-18.1900_agatebeachor.jpg</td>\n",
       "    </tr>\n",
       "    <tr>\n",
       "      <th>8935</th>\n",
       "      <td>AmlDatastore://workspaceblobstore/UI/2023-10-2...</td>\n",
       "      <td>1</td>\n",
       "      <td>1</td>\n",
       "      <td>2023_06-14.1130_cannonbeach.jpg</td>\n",
       "      <td>2023_06-14.1130_cannonbeach.jpg</td>\n",
       "    </tr>\n",
       "    <tr>\n",
       "      <th>8936</th>\n",
       "      <td>AmlDatastore://workspaceblobstore/UI/2023-10-2...</td>\n",
       "      <td>1</td>\n",
       "      <td>1</td>\n",
       "      <td>2023_07-08.1630_pacificcityor.jpg</td>\n",
       "      <td>2023_07-08.1630_pacificcityor.jpg</td>\n",
       "    </tr>\n",
       "  </tbody>\n",
       "</table>\n",
       "<p>8629 rows × 5 columns</p>\n",
       "</div>"
      ],
      "text/plain": [
       "                                                    Url  Label  \\\n",
       "0     AmlDatastore://workspaceblobstore/UI/2023-07-1...      1   \n",
       "1     AmlDatastore://workspaceblobstore/UI/2023-07-1...      1   \n",
       "2     AmlDatastore://workspaceblobstore/UI/2023-07-1...      1   \n",
       "3     AmlDatastore://workspaceblobstore/UI/2023-07-1...      1   \n",
       "5     AmlDatastore://workspaceblobstore/UI/2023-07-1...      1   \n",
       "...                                                 ...    ...   \n",
       "8932  AmlDatastore://workspaceblobstore/UI/2023-10-2...      0   \n",
       "8933  AmlDatastore://workspaceblobstore/UI/2023-10-2...      1   \n",
       "8934  AmlDatastore://workspaceblobstore/UI/2023-10-2...      0   \n",
       "8935  AmlDatastore://workspaceblobstore/UI/2023-10-2...      1   \n",
       "8936  AmlDatastore://workspaceblobstore/UI/2023-10-2...      1   \n",
       "\n",
       "      LabelConfidence                               link  \\\n",
       "0                   1   2023_05-18.0730_agatebeachor.jpg   \n",
       "1                   1   2023_05-03.1930_agatebeachor.jpg   \n",
       "2                   1   2023_05-18.1630_agatebeachor.jpg   \n",
       "3                   1   2023_05-18.2030_agatebeachor.jpg   \n",
       "5                   1   2023_05-30.2100_agatebeachor.jpg   \n",
       "...               ...                                ...   \n",
       "8932                1    2022_09-28.2100_otterrockor.jpg   \n",
       "8933                1    2023_08-20.1400_otterrockor.jpg   \n",
       "8934                1   2022_08-18.1900_agatebeachor.jpg   \n",
       "8935                1    2023_06-14.1130_cannonbeach.jpg   \n",
       "8936                1  2023_07-08.1630_pacificcityor.jpg   \n",
       "\n",
       "                                  photo  \n",
       "0      2023_05-18.0730_agatebeachor.jpg  \n",
       "1      2023_05-03.1930_agatebeachor.jpg  \n",
       "2      2023_05-18.1630_agatebeachor.jpg  \n",
       "3      2023_05-18.2030_agatebeachor.jpg  \n",
       "5      2023_05-30.2100_agatebeachor.jpg  \n",
       "...                                 ...  \n",
       "8932    2022_09-28.2100_otterrockor.jpg  \n",
       "8933    2023_08-20.1400_otterrockor.jpg  \n",
       "8934   2022_08-18.1900_agatebeachor.jpg  \n",
       "8935    2023_06-14.1130_cannonbeach.jpg  \n",
       "8936  2023_07-08.1630_pacificcityor.jpg  \n",
       "\n",
       "[8629 rows x 5 columns]"
      ]
     },
     "metadata": {},
     "output_type": "display_data"
    }
   ],
   "source": [
    "display(df)"
   ]
  },
  {
   "cell_type": "code",
   "execution_count": 9,
   "metadata": {},
   "outputs": [
    {
     "name": "stdout",
     "output_type": "stream",
     "text": [
      "                                                    Url  Label  \\\n",
      "2     AmlDatastore://workspaceblobstore/UI/2023-07-1...      1   \n",
      "3     AmlDatastore://workspaceblobstore/UI/2023-07-1...      1   \n",
      "5     AmlDatastore://workspaceblobstore/UI/2023-07-1...      1   \n",
      "6     AmlDatastore://workspaceblobstore/UI/2023-07-1...      1   \n",
      "11    AmlDatastore://workspaceblobstore/UI/2023-07-1...      1   \n",
      "...                                                 ...    ...   \n",
      "8924  AmlDatastore://workspaceblobstore/UI/2023-10-2...      0   \n",
      "8927  AmlDatastore://workspaceblobstore/UI/2023-10-2...      0   \n",
      "8930  AmlDatastore://workspaceblobstore/UI/2023-10-2...      0   \n",
      "8932  AmlDatastore://workspaceblobstore/UI/2023-10-2...      0   \n",
      "8934  AmlDatastore://workspaceblobstore/UI/2023-10-2...      0   \n",
      "\n",
      "      LabelConfidence                               link  \\\n",
      "2                   1   2023_05-18.1630_agatebeachor.jpg   \n",
      "3                   1   2023_05-18.2030_agatebeachor.jpg   \n",
      "5                   1   2023_05-30.2100_agatebeachor.jpg   \n",
      "6                   1   2023_05-18.1230_agatebeachor.jpg   \n",
      "11                  1   2023_05-14.2200_agatebeachor.jpg   \n",
      "...               ...                                ...   \n",
      "8924                1  2022_08-23.1400_lincolncityor.jpg   \n",
      "8927                1  2022_09-22.1130_lincolncityor.jpg   \n",
      "8930                1    2022_08-08.1300_otterrockor.jpg   \n",
      "8932                1    2022_09-28.2100_otterrockor.jpg   \n",
      "8934                1   2022_08-18.1900_agatebeachor.jpg   \n",
      "\n",
      "                                  photo  \n",
      "2      2023_05-18.1630_agatebeachor.jpg  \n",
      "3      2023_05-18.2030_agatebeachor.jpg  \n",
      "5      2023_05-30.2100_agatebeachor.jpg  \n",
      "6      2023_05-18.1230_agatebeachor.jpg  \n",
      "11     2023_05-14.2200_agatebeachor.jpg  \n",
      "...                                 ...  \n",
      "8924  2022_08-23.1400_lincolncityor.jpg  \n",
      "8927  2022_09-22.1130_lincolncityor.jpg  \n",
      "8930    2022_08-08.1300_otterrockor.jpg  \n",
      "8932    2022_09-28.2100_otterrockor.jpg  \n",
      "8934   2022_08-18.1900_agatebeachor.jpg  \n",
      "\n",
      "[3552 rows x 5 columns]\n",
      "1    6853\n",
      "0    1776\n",
      "Name: Label, dtype: int64\n"
     ]
    }
   ],
   "source": [
    "# Count of each class\n",
    "label_counts = df['Label'].value_counts()\n",
    "\n",
    "# Number of data points to drop from the \"non-foggy\" class\n",
    "num_to_drop = 5077\n",
    "\n",
    "# Check if the number to drop is greater than the count of \"non-foggy\" class\n",
    "if num_to_drop > label_counts[1]:\n",
    "    print(\"Warning: The specified number of data points to drop is greater than the count of 'foggy' class.\")\n",
    "else:\n",
    "    # Randomly drop data points from the \"non-foggy\" class\n",
    "    df_to_drop = df[df['Label'] == 1].sample(n=num_to_drop, random_state=42)\n",
    "    df_filtered = df.drop(df_to_drop.index)\n",
    "\n",
    "    # Display the resulting DataFrame\n",
    "    print(df_filtered)\n",
    "    print(label_counts)\n"
   ]
  },
  {
   "cell_type": "code",
   "execution_count": 10,
   "metadata": {},
   "outputs": [
    {
     "name": "stdout",
     "output_type": "stream",
     "text": [
      "Label Counts:\n",
      "1    1776\n",
      "0    1776\n",
      "Name: Label, dtype: int64\n"
     ]
    }
   ],
   "source": [
    "label_counts = df_filtered['Label'].value_counts()\n",
    "\n",
    "print(\"Label Counts:\")\n",
    "print(label_counts)"
   ]
  },
  {
   "cell_type": "code",
   "execution_count": 11,
   "metadata": {},
   "outputs": [
    {
     "ename": "KeyboardInterrupt",
     "evalue": "",
     "output_type": "error",
     "traceback": [
      "\u001b[1;31m---------------------------------------------------------------------------\u001b[0m",
      "\u001b[1;31mKeyboardInterrupt\u001b[0m                         Traceback (most recent call last)",
      "\u001b[1;32m~\\AppData\\Local\\Temp\\ipykernel_18672\\2867275006.py\u001b[0m in \u001b[0;36m<module>\u001b[1;34m\u001b[0m\n\u001b[0;32m      6\u001b[0m     \u001b[0mimg_path\u001b[0m \u001b[1;33m=\u001b[0m \u001b[0mos\u001b[0m\u001b[1;33m.\u001b[0m\u001b[0mpath\u001b[0m\u001b[1;33m.\u001b[0m\u001b[0mjoin\u001b[0m\u001b[1;33m(\u001b[0m\u001b[0mimg_dir\u001b[0m\u001b[1;33m,\u001b[0m \u001b[0mrow\u001b[0m\u001b[1;33m[\u001b[0m\u001b[1;34m'photo'\u001b[0m\u001b[1;33m]\u001b[0m\u001b[1;33m)\u001b[0m\u001b[1;33m\u001b[0m\u001b[1;33m\u001b[0m\u001b[0m\n\u001b[0;32m      7\u001b[0m     \u001b[1;32mtry\u001b[0m\u001b[1;33m:\u001b[0m\u001b[1;33m\u001b[0m\u001b[1;33m\u001b[0m\u001b[0m\n\u001b[1;32m----> 8\u001b[1;33m         \u001b[0mimg\u001b[0m \u001b[1;33m=\u001b[0m \u001b[0mload_img\u001b[0m\u001b[1;33m(\u001b[0m\u001b[0mimg_path\u001b[0m\u001b[1;33m,\u001b[0m \u001b[0mtarget_size\u001b[0m\u001b[1;33m=\u001b[0m\u001b[1;33m(\u001b[0m\u001b[1;36m100\u001b[0m\u001b[1;33m,\u001b[0m \u001b[1;36m100\u001b[0m\u001b[1;33m)\u001b[0m\u001b[1;33m)\u001b[0m  \u001b[1;31m# Specify the target size of your images\u001b[0m\u001b[1;33m\u001b[0m\u001b[1;33m\u001b[0m\u001b[0m\n\u001b[0m\u001b[0;32m      9\u001b[0m     \u001b[1;32mexcept\u001b[0m \u001b[0mException\u001b[0m \u001b[1;32mas\u001b[0m \u001b[0me\u001b[0m\u001b[1;33m:\u001b[0m\u001b[1;33m\u001b[0m\u001b[1;33m\u001b[0m\u001b[0m\n\u001b[0;32m     10\u001b[0m         \u001b[0mprint\u001b[0m\u001b[1;33m(\u001b[0m\u001b[1;34mf\"Error loading image {img_path}: {e}\"\u001b[0m\u001b[1;33m)\u001b[0m\u001b[1;33m\u001b[0m\u001b[1;33m\u001b[0m\u001b[0m\n",
      "\u001b[1;32mc:\\Users\\Kshitij\\AppData\\Local\\Programs\\Python\\Python37\\lib\\site-packages\\keras\\utils\\image_utils.py\u001b[0m in \u001b[0;36mload_img\u001b[1;34m(path, grayscale, color_mode, target_size, interpolation, keep_aspect_ratio)\u001b[0m\n\u001b[0;32m    420\u001b[0m         \u001b[1;32mif\u001b[0m \u001b[0misinstance\u001b[0m\u001b[1;33m(\u001b[0m\u001b[0mpath\u001b[0m\u001b[1;33m,\u001b[0m \u001b[0mpathlib\u001b[0m\u001b[1;33m.\u001b[0m\u001b[0mPath\u001b[0m\u001b[1;33m)\u001b[0m\u001b[1;33m:\u001b[0m\u001b[1;33m\u001b[0m\u001b[1;33m\u001b[0m\u001b[0m\n\u001b[0;32m    421\u001b[0m             \u001b[0mpath\u001b[0m \u001b[1;33m=\u001b[0m \u001b[0mstr\u001b[0m\u001b[1;33m(\u001b[0m\u001b[0mpath\u001b[0m\u001b[1;33m.\u001b[0m\u001b[0mresolve\u001b[0m\u001b[1;33m(\u001b[0m\u001b[1;33m)\u001b[0m\u001b[1;33m)\u001b[0m\u001b[1;33m\u001b[0m\u001b[1;33m\u001b[0m\u001b[0m\n\u001b[1;32m--> 422\u001b[1;33m         \u001b[1;32mwith\u001b[0m \u001b[0mopen\u001b[0m\u001b[1;33m(\u001b[0m\u001b[0mpath\u001b[0m\u001b[1;33m,\u001b[0m \u001b[1;34m\"rb\"\u001b[0m\u001b[1;33m)\u001b[0m \u001b[1;32mas\u001b[0m \u001b[0mf\u001b[0m\u001b[1;33m:\u001b[0m\u001b[1;33m\u001b[0m\u001b[1;33m\u001b[0m\u001b[0m\n\u001b[0m\u001b[0;32m    423\u001b[0m             \u001b[0mimg\u001b[0m \u001b[1;33m=\u001b[0m \u001b[0mpil_image\u001b[0m\u001b[1;33m.\u001b[0m\u001b[0mopen\u001b[0m\u001b[1;33m(\u001b[0m\u001b[0mio\u001b[0m\u001b[1;33m.\u001b[0m\u001b[0mBytesIO\u001b[0m\u001b[1;33m(\u001b[0m\u001b[0mf\u001b[0m\u001b[1;33m.\u001b[0m\u001b[0mread\u001b[0m\u001b[1;33m(\u001b[0m\u001b[1;33m)\u001b[0m\u001b[1;33m)\u001b[0m\u001b[1;33m)\u001b[0m\u001b[1;33m\u001b[0m\u001b[1;33m\u001b[0m\u001b[0m\n\u001b[0;32m    424\u001b[0m     \u001b[1;32melse\u001b[0m\u001b[1;33m:\u001b[0m\u001b[1;33m\u001b[0m\u001b[1;33m\u001b[0m\u001b[0m\n",
      "\u001b[1;31mKeyboardInterrupt\u001b[0m: "
     ]
    }
   ],
   "source": [
    "# Load images and labels\n",
    "data = []\n",
    "labels = []\n",
    "\n",
    "for index, row in df.iterrows():\n",
    "    img_path = os.path.join(img_dir, row['photo'])\n",
    "    try:\n",
    "        img = load_img(img_path, target_size=(100, 100))  # Specify the target size of your images\n",
    "    except Exception as e:\n",
    "        print(f\"Error loading image {img_path}: {e}\")\n",
    "    img_array = img_to_array(img)\n",
    "\n",
    "    # Edge detection using Canny algorithm\n",
    "    gray_image = cv2.cvtColor(img_array.astype('uint8'), cv2.COLOR_RGB2GRAY)\n",
    "    edges = cv2.Canny(gray_image, threshold1=30, threshold2=100)\n",
    "\n",
    "    # Stack the original image and edges as input\n",
    "    img_with_edges = np.dstack([img_array, edges])\n",
    "    \n",
    "    data.append(img_with_edges)\n",
    "    labels.append(row['Label'])"
   ]
  },
  {
   "cell_type": "code",
   "execution_count": null,
   "metadata": {},
   "outputs": [],
   "source": [
    "# Convert lists to numpy arrays\n",
    "data = np.array(data)\n",
    "labels = np.array(labels)\n",
    "\n",
    "# Ensure labels are in the format 0 or 1 for binary classification\n",
    "labels = labels.astype(int)"
   ]
  },
  {
   "cell_type": "code",
   "execution_count": null,
   "metadata": {},
   "outputs": [],
   "source": [
    "# Normalize pixel values to be between 0 and 1\n",
    "data = data / 255.0"
   ]
  },
  {
   "cell_type": "code",
   "execution_count": null,
   "metadata": {},
   "outputs": [],
   "source": [
    "# Perform train-test split\n",
    "X_train, X_test, y_train, y_test = train_test_split(data, labels, test_size=0.2, random_state=42)\n"
   ]
  },
  {
   "cell_type": "code",
   "execution_count": null,
   "metadata": {},
   "outputs": [],
   "source": [
    "len(X_train)"
   ]
  },
  {
   "cell_type": "code",
   "execution_count": 12,
   "metadata": {},
   "outputs": [
    {
     "name": "stdout",
     "output_type": "stream",
     "text": [
      "Model: \"sequential\"\n",
      "_________________________________________________________________\n",
      " Layer (type)                Output Shape              Param #   \n",
      "=================================================================\n",
      " conv2d (Conv2D)             (None, 98, 98, 32)        1184      \n",
      "                                                                 \n",
      " max_pooling2d (MaxPooling2D  (None, 49, 49, 32)       0         \n",
      " )                                                               \n",
      "                                                                 \n",
      " conv2d_1 (Conv2D)           (None, 47, 47, 64)        18496     \n",
      "                                                                 \n",
      " max_pooling2d_1 (MaxPooling  (None, 23, 23, 64)       0         \n",
      " 2D)                                                             \n",
      "                                                                 \n",
      " conv2d_2 (Conv2D)           (None, 21, 21, 128)       73856     \n",
      "                                                                 \n",
      " max_pooling2d_2 (MaxPooling  (None, 10, 10, 128)      0         \n",
      " 2D)                                                             \n",
      "                                                                 \n",
      " flatten (Flatten)           (None, 12800)             0         \n",
      "                                                                 \n",
      " dense (Dense)               (None, 128)               1638528   \n",
      "                                                                 \n",
      " dense_1 (Dense)             (None, 1)                 129       \n",
      "                                                                 \n",
      "=================================================================\n",
      "Total params: 1,732,193\n",
      "Trainable params: 1,732,193\n",
      "Non-trainable params: 0\n",
      "_________________________________________________________________\n"
     ]
    }
   ],
   "source": [
    "# Build CNN Model\n",
    "model = Sequential()\n",
    "\n",
    "model.add(Conv2D(32, (3, 3), activation='relu', input_shape=(100, 100, 4)))\n",
    "model.add(MaxPooling2D((2, 2)))\n",
    "\n",
    "model.add(Conv2D(64, (3, 3), activation='relu'))\n",
    "model.add(MaxPooling2D((2, 2)))\n",
    "\n",
    "model.add(Conv2D(128, (3, 3), activation='relu'))\n",
    "model.add(MaxPooling2D((2, 2)))\n",
    "\n",
    "model.add(Flatten())\n",
    "model.add(Dense(128, activation='relu'))\n",
    "model.add(Dense(1, activation='sigmoid'))  # For binary classification\n",
    "\n",
    "# Compile the model with specified learning rate\n",
    "opt = Adam(learning_rate=0.01)\n",
    "model.compile(optimizer=opt, loss='binary_crossentropy', metrics=['accuracy'])\n",
    "\n",
    "# Display model summary\n",
    "model.summary()"
   ]
  },
  {
   "cell_type": "code",
   "execution_count": 14,
   "metadata": {},
   "outputs": [
    {
     "name": "stdout",
     "output_type": "stream",
     "text": [
      "Collecting pydot\n",
      "  Downloading pydot-1.4.2-py2.py3-none-any.whl (21 kB)\n",
      "Requirement already satisfied: pyparsing>=2.1.4 in c:\\users\\kshitij\\appdata\\local\\programs\\python\\python37\\lib\\site-packages (from pydot) (3.0.9)\n",
      "Installing collected packages: pydot\n",
      "Successfully installed pydot-1.4.2\n",
      "Note: you may need to restart the kernel to use updated packages.\n"
     ]
    }
   ],
   "source": [
    "%pip install pydot"
   ]
  },
  {
   "cell_type": "code",
   "execution_count": 16,
   "metadata": {},
   "outputs": [
    {
     "name": "stdout",
     "output_type": "stream",
     "text": [
      "You must install pydot (`pip install pydot`) and install graphviz (see instructions at https://graphviz.gitlab.io/download/) for plot_model to work.\n"
     ]
    }
   ],
   "source": [
    "from keras.utils import plot_model\n",
    "plot_model(model, to_file='cnn_model.png', show_shapes=True, show_layer_names=True)"
   ]
  },
  {
   "cell_type": "code",
   "execution_count": 21,
   "metadata": {},
   "outputs": [
    {
     "name": "stdout",
     "output_type": "stream",
     "text": [
      "Epoch 1/10\n",
      "216/216 [==============================] - 75s 337ms/step - loss: 0.6505 - accuracy: 0.8567 - val_loss: 0.2680 - val_accuracy: 0.8986\n",
      "Epoch 2/10\n",
      "216/216 [==============================] - 71s 327ms/step - loss: 0.2476 - accuracy: 0.9060 - val_loss: 0.2318 - val_accuracy: 0.9108\n",
      "Epoch 3/10\n",
      "216/216 [==============================] - 71s 327ms/step - loss: 0.2373 - accuracy: 0.9105 - val_loss: 0.2302 - val_accuracy: 0.9096\n",
      "Epoch 4/10\n",
      "216/216 [==============================] - 71s 328ms/step - loss: 0.2327 - accuracy: 0.9140 - val_loss: 0.2378 - val_accuracy: 0.9050\n",
      "Epoch 5/10\n",
      "216/216 [==============================] - 70s 323ms/step - loss: 0.2149 - accuracy: 0.9166 - val_loss: 0.2168 - val_accuracy: 0.9108\n",
      "Epoch 6/10\n",
      "216/216 [==============================] - 69s 321ms/step - loss: 0.2004 - accuracy: 0.9213 - val_loss: 0.2128 - val_accuracy: 0.9102\n",
      "Epoch 7/10\n",
      "216/216 [==============================] - 70s 325ms/step - loss: 0.1920 - accuracy: 0.9219 - val_loss: 0.2474 - val_accuracy: 0.9027\n",
      "Epoch 8/10\n",
      "216/216 [==============================] - 71s 328ms/step - loss: 0.1839 - accuracy: 0.9247 - val_loss: 0.2267 - val_accuracy: 0.9171\n",
      "Epoch 9/10\n",
      "216/216 [==============================] - 71s 328ms/step - loss: 0.1690 - accuracy: 0.9302 - val_loss: 0.2412 - val_accuracy: 0.9061\n",
      "Epoch 10/10\n",
      "216/216 [==============================] - 71s 330ms/step - loss: 0.1591 - accuracy: 0.9342 - val_loss: 0.2428 - val_accuracy: 0.9021\n",
      "54/54 [==============================] - 4s 77ms/step - loss: 0.2428 - accuracy: 0.9021\n",
      "Test Accuracy: 90.21%\n"
     ]
    }
   ],
   "source": [
    "# Early Stopping\n",
    "early_stopping = EarlyStopping(monitor='val_loss', patience=5, restore_best_weights=True)\n",
    "\n",
    "# Train the Model\n",
    "history = model.fit(X_train, y_train, epochs=10, batch_size=32, validation_data=(X_test, y_test), callbacks=[early_stopping])\n",
    "\n",
    "# Evaluate the Model\n",
    "accuracy = model.evaluate(X_test, y_test)[1]\n",
    "print(f'Test Accuracy: {accuracy * 100:.2f}%')\n"
   ]
  },
  {
   "cell_type": "code",
   "execution_count": 22,
   "metadata": {},
   "outputs": [
    {
     "name": "stdout",
     "output_type": "stream",
     "text": [
      "54/54 [==============================] - 8s 125ms/step\n",
      "Classification Report:\n",
      "              precision    recall  f1-score   support\n",
      "\n",
      "           0       0.72      0.82      0.77       338\n",
      "           1       0.95      0.92      0.94      1388\n",
      "\n",
      "    accuracy                           0.90      1726\n",
      "   macro avg       0.84      0.87      0.85      1726\n",
      "weighted avg       0.91      0.90      0.90      1726\n",
      "\n"
     ]
    }
   ],
   "source": [
    "# Display additional metrics\n",
    "y_pred = model.predict(X_test)\n",
    "y_pred_binary = (y_pred > 0.5).astype(int)\n",
    "\n",
    "print(\"Classification Report:\")\n",
    "print(classification_report(y_test, y_pred_binary))"
   ]
  },
  {
   "cell_type": "code",
   "execution_count": 23,
   "metadata": {},
   "outputs": [],
   "source": [
    "def plot_confusion_matrix(y_test, y_test_pred, model_name):\n",
    "  test_confusion_matrix = confusion_matrix(y_test, y_test_pred)\n",
    "  group_names = ['True Negative (TN)', 'False Positive (FP)',\n",
    "                'False Negative (FN)', 'True Positive (TP)']\n",
    "  group_counts = [\"{0:0.0f}\".format(value) for value in test_confusion_matrix.flatten()]\n",
    "  group_percentages = [\"{0:.2%}\".format(value) for value in test_confusion_matrix.flatten()/np.sum(test_confusion_matrix)]\n",
    "\n",
    "  labels = [f\"{v1}\\n{v2}\\n{v3}\" for v1, v2, v3 in zip(group_names, group_counts, group_percentages)]\n",
    "  labels = np.asarray(labels).reshape(2,2)\n",
    "\n",
    "  # Creating the heatmap\n",
    "  plt.figure(figsize=(10,7))\n",
    "  sns.heatmap(test_confusion_matrix, annot=labels, fmt='', cmap='Blues')\n",
    "  plt.title(\"Confusion Matrix for \"+ model_name+ \" (using Test Set)\")\n",
    "  plt.ylabel('True label')\n",
    "  plt.xlabel('Predicted label')\n",
    "\n",
    "  plt.show()"
   ]
  },
  {
   "cell_type": "code",
   "execution_count": 24,
   "metadata": {},
   "outputs": [
    {
     "data": {
      "image/png": "[encoded data removed]",
      "text/plain": [
       "<Figure size 1000x700 with 2 Axes>"
      ]
     },
     "metadata": {},
     "output_type": "display_data"
    }
   ],
   "source": [
    "# Confusion Matrix\n",
    "import seaborn as sns\n",
    "\n",
    "plot_confusion_matrix(y_test, y_pred_binary, \"CNN\")\n"
   ]
  },
  {
   "cell_type": "code",
   "execution_count": 25,
   "metadata": {},
   "outputs": [],
   "source": [
    "# ROC Curve\n",
    "fpr, tpr, _ = roc_curve(y_test, y_pred)\n",
    "roc_auc = auc(fpr, tpr)"
   ]
  },
  {
   "cell_type": "code",
   "execution_count": 28,
   "metadata": {},
   "outputs": [],
   "source": [
    "# Precision-Recall Curve\n",
    "precision, recall, _ = precision_recall_curve(y_test, y_pred)\n",
    "pr_auc = auc(recall, precision)"
   ]
  },
  {
   "cell_type": "code",
   "execution_count": 29,
   "metadata": {},
   "outputs": [
    {
     "data": {
      "image/png": "[encoded data removed]",
      "text/plain": [
       "<Figure size 800x800 with 1 Axes>"
      ]
     },
     "metadata": {},
     "output_type": "display_data"
    }
   ],
   "source": [
    "# Plot ROC Curve\n",
    "plt.figure(figsize=(8, 8))\n",
    "plt.plot(fpr, tpr, color='darkorange', lw=2, label=f'AUC = {roc_auc:.2f}')\n",
    "plt.plot([0, 1], [0, 1], color='navy', lw=2, linestyle='--')\n",
    "plt.xlabel('False Positive Rate')\n",
    "plt.ylabel('True Positive Rate')\n",
    "plt.title('Receiver Operating Characteristic (ROC) Curve')\n",
    "plt.legend(loc='lower right')\n",
    "plt.show()"
   ]
  },
  {
   "cell_type": "code",
   "execution_count": 30,
   "metadata": {},
   "outputs": [
    {
     "data": {
      "image/png": "[encoded data removed]",
      "text/plain": [
       "<Figure size 800x800 with 1 Axes>"
      ]
     },
     "metadata": {},
     "output_type": "display_data"
    }
   ],
   "source": [
    "# Plot Precision-Recall Curve\n",
    "plt.figure(figsize=(8, 8))\n",
    "plt.plot(recall, precision, color='blue', lw=2, label=f'AUC = {pr_auc:.2f}')\n",
    "plt.xlabel('Recall')\n",
    "plt.ylabel('Precision')\n",
    "plt.title('Precision-Recall Curve')\n",
    "plt.legend(loc='lower right')\n",
    "plt.show()"
   ]
  }
 ],
 "metadata": {
  "kernelspec": {
   "display_name": "Python 3",
   "language": "python",
   "name": "python3"
  },
  "language_info": {
   "codemirror_mode": {
    "name": "ipython",
    "version": 3
   },
   "file_extension": ".py",
   "mimetype": "text/x-python",
   "name": "python",
   "nbconvert_exporter": "python",
   "pygments_lexer": "ipython3",
   "version": "3.7.6"
  }
 },
 "nbformat": 4,
 "nbformat_minor": 2
}
