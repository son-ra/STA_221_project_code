{
 "cells": [
  {
   "cell_type": "code",
   "execution_count": 1,
   "id": "c9af840a-98d3-4570-9af4-970aef51a529",
   "metadata": {
    "id": "c9af840a-98d3-4570-9af4-970aef51a529"
   },
   "outputs": [],
   "source": [
    "import skimage\n",
    "import os\n",
    "from skimage import io\n",
    "import matplotlib.pyplot as plt\n",
    "from skimage.color import rgb2gray\n",
    "from skimage.color import rgb2hsv\n",
    "import re\n",
    "import numpy as np\n",
    "import seaborn as sns\n",
    "## for the stats class\n",
    "import scipy.signal as sg\n",
    "from skimage.transform import rescale, resize, downscale_local_mean\n",
    "from sklearn.decomposition import SparsePCA\n",
    "import pywt\n",
    "from scipy import stats\n",
    "import timeit\n",
    "#import optshrink as opt # package we create\n",
    "import numpy as np\n",
    "# import scipy.io as sio\n",
    "import h5py\n",
    "import matplotlib.pyplot as plt\n",
    "from scipy.stats import gaussian_kde\n",
    "import seaborn as sns\n",
    "import pandas as pd\n",
    "from datetime import datetime\n",
    "import pytz\n",
    "from sklearn.mixture import GaussianMixture\n",
    "from matplotlib.colors import LogNorm\n",
    "from skimage import io\n",
    "from patchify import patchify, unpatchify\n",
    "%matplotlib inline\n",
    "\n",
    "import collections\n",
    "# from itertools import chain\n",
    "# import urllib.request as request\n",
    "# import pickle\n",
    "\n",
    "import numpy as np\n",
    "\n",
    "import scipy.signal as signal\n",
    "import scipy.special as special\n",
    "import scipy.optimize as optimize\n",
    "\n",
    "import matplotlib.pyplot as plt\n",
    "\n",
    "import skimage.io\n",
    "import skimage.transform\n",
    "\n",
    "# import cv2\n",
    "from sklearn import preprocessing\n",
    "\n",
    "# from libsvm import svmutil\n",
    "from sklearn.model_selection import train_test_split\n",
    "from sklearn.metrics import confusion_matrix\n",
    "from sklearn.metrics import precision_recall_curve\n",
    "from sklearn.metrics import accuracy_score, precision_score, recall_score, f1_score, roc_auc_score, roc_curve, auc"
   ]
  },
  {
   "cell_type": "code",
   "execution_count": 170,
   "id": "c9ceb4b0-8df3-4568-a2ee-6cd8c36627e2",
   "metadata": {},
   "outputs": [],
   "source": [
    "def plot_confusion_matrix(y_test, y_test_pred, model_name):\n",
    "    test_confusion_matrix = confusion_matrix(y_test, y_test_pred)\n",
    "    group_names = ['True Negative (TN)', 'False Positive (FP)',\n",
    "                'False Negative (FN)', 'True Positive (TP)']\n",
    "    group_counts = [\"{0:0.0f}\".format(value) for value in test_confusion_matrix.flatten()]\n",
    "    group_percentages = [\"{0:.2%}\".format(value) for value in test_confusion_matrix.flatten()/np.sum(test_confusion_matrix)]\n",
    "\n",
    "    labels = [f\"{v1}\\n{v2}\\n{v3}\" for v1, v2, v3 in zip(group_names, group_counts, group_percentages)]\n",
    "    labels = np.asarray(labels).reshape(2,2)\n",
    "\n",
    "    # Creating the heatmap\n",
    "    plt.figure(figsize=(8,5))\n",
    "    sns.heatmap(test_confusion_matrix, annot=labels, fmt='', cmap='Blues', vmin = 0)\n",
    "    plt.title(\"Confusion Matrix for \"+ model_name+ \" (using Test Set)\")\n",
    "    plt.ylabel('True label')\n",
    "    plt.xlabel('Predicted label')\n",
    "\n",
    "    plt.show()"
   ]
  },
  {
   "cell_type": "code",
   "execution_count": 156,
   "id": "4e758142-b8f2-4cf2-87d3-d3edd2303e66",
   "metadata": {
    "id": "4e758142-b8f2-4cf2-87d3-d3edd2303e66"
   },
   "outputs": [
    {
     "data": {
      "text/html": [
       "<div>\n",
       "<style scoped>\n",
       "    .dataframe tbody tr th:only-of-type {\n",
       "        vertical-align: middle;\n",
       "    }\n",
       "\n",
       "    .dataframe tbody tr th {\n",
       "        vertical-align: top;\n",
       "    }\n",
       "\n",
       "    .dataframe thead th {\n",
       "        text-align: right;\n",
       "    }\n",
       "</style>\n",
       "<table border=\"1\" class=\"dataframe\">\n",
       "  <thead>\n",
       "    <tr style=\"text-align: right;\">\n",
       "      <th></th>\n",
       "      <th>photo</th>\n",
       "      <th>Label</th>\n",
       "      <th>site</th>\n",
       "      <th>hour</th>\n",
       "      <th>mscn_var_0</th>\n",
       "      <th>mscn_var_1</th>\n",
       "      <th>mscn_var_2</th>\n",
       "      <th>vertical_var_0</th>\n",
       "      <th>vertical_var_1</th>\n",
       "      <th>vertical_var_2</th>\n",
       "      <th>...</th>\n",
       "      <th>dark_channel_prior_0</th>\n",
       "      <th>dark_channel_prior_1</th>\n",
       "      <th>dark_channel_prior_2</th>\n",
       "      <th>color_sat_0</th>\n",
       "      <th>color_sat_1</th>\n",
       "      <th>color_sat_2</th>\n",
       "      <th>CF_0</th>\n",
       "      <th>CF_1</th>\n",
       "      <th>CF_2</th>\n",
       "      <th>Label_train</th>\n",
       "    </tr>\n",
       "  </thead>\n",
       "  <tbody>\n",
       "    <tr>\n",
       "      <th>0</th>\n",
       "      <td>2022_07-04.0000_agatebeachor.jpg</td>\n",
       "      <td>not_foggy</td>\n",
       "      <td>agatebeachor</td>\n",
       "      <td>0</td>\n",
       "      <td>0.220805</td>\n",
       "      <td>0.285012</td>\n",
       "      <td>0.099900</td>\n",
       "      <td>0.065638</td>\n",
       "      <td>0.106588</td>\n",
       "      <td>0.034401</td>\n",
       "      <td>...</td>\n",
       "      <td>28.0</td>\n",
       "      <td>6.0</td>\n",
       "      <td>14.0</td>\n",
       "      <td>0.000000</td>\n",
       "      <td>0.000000</td>\n",
       "      <td>0.000000</td>\n",
       "      <td>85.593872</td>\n",
       "      <td>51.769043</td>\n",
       "      <td>10.103722</td>\n",
       "      <td>0</td>\n",
       "    </tr>\n",
       "    <tr>\n",
       "      <th>1</th>\n",
       "      <td>2022_07-04.0000_otterrockor.jpg</td>\n",
       "      <td>not_foggy</td>\n",
       "      <td>otterrockor</td>\n",
       "      <td>0</td>\n",
       "      <td>0.725298</td>\n",
       "      <td>0.720047</td>\n",
       "      <td>0.691137</td>\n",
       "      <td>0.493167</td>\n",
       "      <td>0.477681</td>\n",
       "      <td>0.461369</td>\n",
       "      <td>...</td>\n",
       "      <td>2.0</td>\n",
       "      <td>4.0</td>\n",
       "      <td>0.0</td>\n",
       "      <td>0.244513</td>\n",
       "      <td>0.152914</td>\n",
       "      <td>0.160079</td>\n",
       "      <td>90.752732</td>\n",
       "      <td>158.670973</td>\n",
       "      <td>166.963307</td>\n",
       "      <td>0</td>\n",
       "    </tr>\n",
       "    <tr>\n",
       "      <th>2</th>\n",
       "      <td>2022_07-04.0700_agatebeachor.jpg</td>\n",
       "      <td>not_foggy</td>\n",
       "      <td>agatebeachor</td>\n",
       "      <td>7</td>\n",
       "      <td>0.096299</td>\n",
       "      <td>0.131353</td>\n",
       "      <td>0.173731</td>\n",
       "      <td>0.015461</td>\n",
       "      <td>0.041110</td>\n",
       "      <td>0.050096</td>\n",
       "      <td>...</td>\n",
       "      <td>64.0</td>\n",
       "      <td>24.0</td>\n",
       "      <td>37.0</td>\n",
       "      <td>0.000000</td>\n",
       "      <td>0.000000</td>\n",
       "      <td>0.000000</td>\n",
       "      <td>35.000917</td>\n",
       "      <td>18.467704</td>\n",
       "      <td>9.174465</td>\n",
       "      <td>0</td>\n",
       "    </tr>\n",
       "    <tr>\n",
       "      <th>3</th>\n",
       "      <td>2022_07-04.0730_agatebeachor.jpg</td>\n",
       "      <td>not_foggy</td>\n",
       "      <td>agatebeachor</td>\n",
       "      <td>7</td>\n",
       "      <td>0.101561</td>\n",
       "      <td>0.205493</td>\n",
       "      <td>0.325304</td>\n",
       "      <td>0.016175</td>\n",
       "      <td>0.091502</td>\n",
       "      <td>0.142794</td>\n",
       "      <td>...</td>\n",
       "      <td>95.0</td>\n",
       "      <td>13.0</td>\n",
       "      <td>20.0</td>\n",
       "      <td>0.063917</td>\n",
       "      <td>0.072188</td>\n",
       "      <td>0.164992</td>\n",
       "      <td>105.608782</td>\n",
       "      <td>106.996344</td>\n",
       "      <td>147.341268</td>\n",
       "      <td>0</td>\n",
       "    </tr>\n",
       "    <tr>\n",
       "      <th>4</th>\n",
       "      <td>2022_07-04.0730_otterrockor.jpg</td>\n",
       "      <td>not_foggy</td>\n",
       "      <td>otterrockor</td>\n",
       "      <td>7</td>\n",
       "      <td>0.251876</td>\n",
       "      <td>0.576411</td>\n",
       "      <td>0.588961</td>\n",
       "      <td>0.082378</td>\n",
       "      <td>0.292454</td>\n",
       "      <td>0.396829</td>\n",
       "      <td>...</td>\n",
       "      <td>7.0</td>\n",
       "      <td>0.0</td>\n",
       "      <td>0.0</td>\n",
       "      <td>0.099916</td>\n",
       "      <td>0.042100</td>\n",
       "      <td>0.124894</td>\n",
       "      <td>110.066753</td>\n",
       "      <td>189.517876</td>\n",
       "      <td>183.865692</td>\n",
       "      <td>0</td>\n",
       "    </tr>\n",
       "    <tr>\n",
       "      <th>...</th>\n",
       "      <td>...</td>\n",
       "      <td>...</td>\n",
       "      <td>...</td>\n",
       "      <td>...</td>\n",
       "      <td>...</td>\n",
       "      <td>...</td>\n",
       "      <td>...</td>\n",
       "      <td>...</td>\n",
       "      <td>...</td>\n",
       "      <td>...</td>\n",
       "      <td>...</td>\n",
       "      <td>...</td>\n",
       "      <td>...</td>\n",
       "      <td>...</td>\n",
       "      <td>...</td>\n",
       "      <td>...</td>\n",
       "      <td>...</td>\n",
       "      <td>...</td>\n",
       "      <td>...</td>\n",
       "      <td>...</td>\n",
       "      <td>...</td>\n",
       "    </tr>\n",
       "    <tr>\n",
       "      <th>7991</th>\n",
       "      <td>2023_09-30.1900_agatebeachor.jpg</td>\n",
       "      <td>not_foggy</td>\n",
       "      <td>agatebeachor</td>\n",
       "      <td>19</td>\n",
       "      <td>0.176457</td>\n",
       "      <td>0.743293</td>\n",
       "      <td>0.523022</td>\n",
       "      <td>0.083535</td>\n",
       "      <td>0.457137</td>\n",
       "      <td>0.265502</td>\n",
       "      <td>...</td>\n",
       "      <td>70.0</td>\n",
       "      <td>0.0</td>\n",
       "      <td>0.0</td>\n",
       "      <td>0.041942</td>\n",
       "      <td>0.085205</td>\n",
       "      <td>0.077075</td>\n",
       "      <td>182.964334</td>\n",
       "      <td>69.402653</td>\n",
       "      <td>135.332656</td>\n",
       "      <td>0</td>\n",
       "    </tr>\n",
       "    <tr>\n",
       "      <th>7992</th>\n",
       "      <td>2023_09-30.1930_cannonbeach.jpg</td>\n",
       "      <td>not_foggy</td>\n",
       "      <td>cannonbeach</td>\n",
       "      <td>19</td>\n",
       "      <td>0.164592</td>\n",
       "      <td>0.585149</td>\n",
       "      <td>0.640644</td>\n",
       "      <td>0.042335</td>\n",
       "      <td>0.314184</td>\n",
       "      <td>0.390172</td>\n",
       "      <td>...</td>\n",
       "      <td>0.0</td>\n",
       "      <td>0.0</td>\n",
       "      <td>0.0</td>\n",
       "      <td>0.039959</td>\n",
       "      <td>0.058892</td>\n",
       "      <td>0.092489</td>\n",
       "      <td>137.364165</td>\n",
       "      <td>106.650678</td>\n",
       "      <td>174.568957</td>\n",
       "      <td>0</td>\n",
       "    </tr>\n",
       "    <tr>\n",
       "      <th>7993</th>\n",
       "      <td>2023_09-30.2000_otterrockor.jpg</td>\n",
       "      <td>not_foggy</td>\n",
       "      <td>otterrockor</td>\n",
       "      <td>20</td>\n",
       "      <td>0.282921</td>\n",
       "      <td>0.442290</td>\n",
       "      <td>0.345411</td>\n",
       "      <td>0.136875</td>\n",
       "      <td>0.235093</td>\n",
       "      <td>0.183542</td>\n",
       "      <td>...</td>\n",
       "      <td>22.0</td>\n",
       "      <td>3.0</td>\n",
       "      <td>0.0</td>\n",
       "      <td>0.125098</td>\n",
       "      <td>0.145597</td>\n",
       "      <td>0.143351</td>\n",
       "      <td>176.593142</td>\n",
       "      <td>127.302494</td>\n",
       "      <td>142.248589</td>\n",
       "      <td>0</td>\n",
       "    </tr>\n",
       "    <tr>\n",
       "      <th>7994</th>\n",
       "      <td>2023_09-30.2030_otterrockor.jpg</td>\n",
       "      <td>not_foggy</td>\n",
       "      <td>otterrockor</td>\n",
       "      <td>20</td>\n",
       "      <td>0.193967</td>\n",
       "      <td>0.582705</td>\n",
       "      <td>0.378667</td>\n",
       "      <td>0.059283</td>\n",
       "      <td>0.307785</td>\n",
       "      <td>0.207709</td>\n",
       "      <td>...</td>\n",
       "      <td>26.0</td>\n",
       "      <td>0.0</td>\n",
       "      <td>0.0</td>\n",
       "      <td>0.137039</td>\n",
       "      <td>0.243238</td>\n",
       "      <td>0.247271</td>\n",
       "      <td>175.215470</td>\n",
       "      <td>145.617058</td>\n",
       "      <td>152.212567</td>\n",
       "      <td>0</td>\n",
       "    </tr>\n",
       "    <tr>\n",
       "      <th>7995</th>\n",
       "      <td>2023_09-30.2100_pacificcityor.jpg</td>\n",
       "      <td>not_foggy</td>\n",
       "      <td>pacificcityor</td>\n",
       "      <td>21</td>\n",
       "      <td>0.188133</td>\n",
       "      <td>0.630684</td>\n",
       "      <td>0.430365</td>\n",
       "      <td>0.069563</td>\n",
       "      <td>0.397242</td>\n",
       "      <td>0.229185</td>\n",
       "      <td>...</td>\n",
       "      <td>76.0</td>\n",
       "      <td>0.0</td>\n",
       "      <td>0.0</td>\n",
       "      <td>0.161195</td>\n",
       "      <td>0.195443</td>\n",
       "      <td>0.127321</td>\n",
       "      <td>170.412583</td>\n",
       "      <td>146.110285</td>\n",
       "      <td>62.080586</td>\n",
       "      <td>0</td>\n",
       "    </tr>\n",
       "  </tbody>\n",
       "</table>\n",
       "<p>7996 rows × 32 columns</p>\n",
       "</div>"
      ],
      "text/plain": [
       "                                  photo      Label           site  hour  \\\n",
       "0      2022_07-04.0000_agatebeachor.jpg  not_foggy   agatebeachor     0   \n",
       "1       2022_07-04.0000_otterrockor.jpg  not_foggy    otterrockor     0   \n",
       "2      2022_07-04.0700_agatebeachor.jpg  not_foggy   agatebeachor     7   \n",
       "3      2022_07-04.0730_agatebeachor.jpg  not_foggy   agatebeachor     7   \n",
       "4       2022_07-04.0730_otterrockor.jpg  not_foggy    otterrockor     7   \n",
       "...                                 ...        ...            ...   ...   \n",
       "7991   2023_09-30.1900_agatebeachor.jpg  not_foggy   agatebeachor    19   \n",
       "7992    2023_09-30.1930_cannonbeach.jpg  not_foggy    cannonbeach    19   \n",
       "7993    2023_09-30.2000_otterrockor.jpg  not_foggy    otterrockor    20   \n",
       "7994    2023_09-30.2030_otterrockor.jpg  not_foggy    otterrockor    20   \n",
       "7995  2023_09-30.2100_pacificcityor.jpg  not_foggy  pacificcityor    21   \n",
       "\n",
       "      mscn_var_0  mscn_var_1  mscn_var_2  vertical_var_0  vertical_var_1  \\\n",
       "0       0.220805    0.285012    0.099900        0.065638        0.106588   \n",
       "1       0.725298    0.720047    0.691137        0.493167        0.477681   \n",
       "2       0.096299    0.131353    0.173731        0.015461        0.041110   \n",
       "3       0.101561    0.205493    0.325304        0.016175        0.091502   \n",
       "4       0.251876    0.576411    0.588961        0.082378        0.292454   \n",
       "...          ...         ...         ...             ...             ...   \n",
       "7991    0.176457    0.743293    0.523022        0.083535        0.457137   \n",
       "7992    0.164592    0.585149    0.640644        0.042335        0.314184   \n",
       "7993    0.282921    0.442290    0.345411        0.136875        0.235093   \n",
       "7994    0.193967    0.582705    0.378667        0.059283        0.307785   \n",
       "7995    0.188133    0.630684    0.430365        0.069563        0.397242   \n",
       "\n",
       "      vertical_var_2  ...  dark_channel_prior_0  dark_channel_prior_1  \\\n",
       "0           0.034401  ...                  28.0                   6.0   \n",
       "1           0.461369  ...                   2.0                   4.0   \n",
       "2           0.050096  ...                  64.0                  24.0   \n",
       "3           0.142794  ...                  95.0                  13.0   \n",
       "4           0.396829  ...                   7.0                   0.0   \n",
       "...              ...  ...                   ...                   ...   \n",
       "7991        0.265502  ...                  70.0                   0.0   \n",
       "7992        0.390172  ...                   0.0                   0.0   \n",
       "7993        0.183542  ...                  22.0                   3.0   \n",
       "7994        0.207709  ...                  26.0                   0.0   \n",
       "7995        0.229185  ...                  76.0                   0.0   \n",
       "\n",
       "      dark_channel_prior_2  color_sat_0  color_sat_1  color_sat_2        CF_0  \\\n",
       "0                     14.0     0.000000     0.000000     0.000000   85.593872   \n",
       "1                      0.0     0.244513     0.152914     0.160079   90.752732   \n",
       "2                     37.0     0.000000     0.000000     0.000000   35.000917   \n",
       "3                     20.0     0.063917     0.072188     0.164992  105.608782   \n",
       "4                      0.0     0.099916     0.042100     0.124894  110.066753   \n",
       "...                    ...          ...          ...          ...         ...   \n",
       "7991                   0.0     0.041942     0.085205     0.077075  182.964334   \n",
       "7992                   0.0     0.039959     0.058892     0.092489  137.364165   \n",
       "7993                   0.0     0.125098     0.145597     0.143351  176.593142   \n",
       "7994                   0.0     0.137039     0.243238     0.247271  175.215470   \n",
       "7995                   0.0     0.161195     0.195443     0.127321  170.412583   \n",
       "\n",
       "            CF_1        CF_2  Label_train  \n",
       "0      51.769043   10.103722            0  \n",
       "1     158.670973  166.963307            0  \n",
       "2      18.467704    9.174465            0  \n",
       "3     106.996344  147.341268            0  \n",
       "4     189.517876  183.865692            0  \n",
       "...          ...         ...          ...  \n",
       "7991   69.402653  135.332656            0  \n",
       "7992  106.650678  174.568957            0  \n",
       "7993  127.302494  142.248589            0  \n",
       "7994  145.617058  152.212567            0  \n",
       "7995  146.110285   62.080586            0  \n",
       "\n",
       "[7996 rows x 32 columns]"
      ]
     },
     "execution_count": 156,
     "metadata": {},
     "output_type": "execute_result"
    }
   ],
   "source": [
    "# fog_aware_pivot = pd.read_csv('fog_aware_stats_4_equal_patches_pivot.csv')\n",
    "# fog_aware_pivot = pd.read_csv('fog_aware_stats_no_patches_pivot.csv')\n",
    "# fog_aware_pivot = pd.read_csv('fog_aware_stats_4_equal_patches_pivot.csv')\n",
    "fog_aware_pivot = pd.read_csv('fog_aware_stats_horizontal_3_patches_pivot.csv')\n",
    "fog_aware_pivot['Label_train'] = 1*(fog_aware_pivot['Label']=='foggy')\n",
    "fog_aware_pivot"
   ]
  },
  {
   "cell_type": "code",
   "execution_count": 157,
   "id": "9d1b9704-b387-4fd7-b70e-eb3e194ca607",
   "metadata": {
    "colab": {
     "base_uri": "https://localhost:8080/"
    },
    "id": "9d1b9704-b387-4fd7-b70e-eb3e194ca607",
    "outputId": "0aea033e-77c9-41b2-a5d7-acf7234712e4"
   },
   "outputs": [
    {
     "data": {
      "text/plain": [
       "Label_train  Label    \n",
       "0            not_foggy    6374\n",
       "1            foggy        1622\n",
       "dtype: int64"
      ]
     },
     "execution_count": 157,
     "metadata": {},
     "output_type": "execute_result"
    }
   ],
   "source": [
    "fog_aware_pivot[['Label_train', 'Label']].value_counts()"
   ]
  },
  {
   "cell_type": "code",
   "execution_count": 71,
   "id": "24d6db24-a6a7-4d71-9d32-2287d8764670",
   "metadata": {},
   "outputs": [
    {
     "data": {
      "text/plain": [
       "array(['Label', 'mscn_var_1', 'vertical_var_1', 'sharpness_1',\n",
       "       'coef_or_var_sharpness_1', 'rms_contrast_1', 'entropy_1',\n",
       "       'dark_channel_prior_1', 'color_sat_1', 'CF_1'], dtype=object)"
      ]
     },
     "execution_count": 71,
     "metadata": {},
     "output_type": "execute_result"
    }
   ],
   "source": [
    "fog_aware_pivot\n",
    "np.array(fog_aware_pivot.columns[fog_aware_pivot.columns.str.contains(r'_1|Label$')])"
   ]
  },
  {
   "cell_type": "code",
   "execution_count": 158,
   "id": "c179ffb9-b036-4dac-91d6-47f5d9c08307",
   "metadata": {},
   "outputs": [],
   "source": [
    "# g = sns.pairplot(fog_aware_pivot.drop(['photo', 'site', 'hour', 'Label_train'], axis = 1)\n",
    "#                  , hue = 'Label', palette={'foggy': 'blue', 'not_foggy': 'green'}, markers=[\"o\", \"D\"]\n",
    "#                  , corner=True)\n",
    "\n",
    "# g = sns.pairplot(fog_aware_pivot[fog_aware_pivot.columns[fog_aware_pivot.columns.str.contains(r'_1|Label$')]]\n",
    "#                  , hue = 'Label', palette={'foggy': 'blue', 'not_foggy': 'green'}, markers=[\"o\", \"D\"]\n",
    "#                  , corner=True)\n"
   ]
  },
  {
   "cell_type": "code",
   "execution_count": 159,
   "id": "c246c051-d597-493b-a0d8-eba27a3b3aa8",
   "metadata": {},
   "outputs": [
    {
     "name": "stdout",
     "output_type": "stream",
     "text": [
      "[1622 1622]\n"
     ]
    }
   ],
   "source": [
    "# X = np.array(fog_aware_pivot.drop(['photo', 'Label', 'site', 'hour', 'Label_train'], axis = 1)\n",
    "#             )\n",
    "\n",
    "# to_keep = ['mscn_var',\n",
    "# 'vertical_var',\n",
    "# # 'sharpness',\n",
    "# # 'coef_or_var_sharpness'\n",
    "# # 'rms_contrast'\n",
    "#           ]\n",
    "\n",
    "to_keep_3_patches = ['mscn_var_1',\n",
    "'vertical_var_1',\n",
    "# 'sharpness_1',\n",
    "# 'coef_or_var_sharpness_1',\n",
    "'rms_contrast_1']\n",
    "\n",
    "X = np.array(fog_aware_pivot[to_keep_3_patches]\n",
    "            )\n",
    "y = fog_aware_pivot['Label_train']\n",
    "\n",
    "# Separate the data into classes\n",
    "class_0_indices = np.where(y == 0)[0]\n",
    "class_1_indices = np.where(y == 1)[0]\n",
    "\n",
    "# Sample an equal number of samples from each class\n",
    "num_samples_per_class = min(len(class_0_indices), len(class_1_indices))\n",
    "\n",
    "# Randomly sample indices for each class\n",
    "sampled_indices_class_0 = np.random.choice(class_0_indices, num_samples_per_class, replace=False)\n",
    "sampled_indices_class_1 = np.random.choice(class_1_indices, num_samples_per_class, replace=False)\n",
    "\n",
    "# Combine the sampled indices\n",
    "sampled_indices = np.concatenate([sampled_indices_class_0, sampled_indices_class_1])\n",
    "\n",
    "# Use the sampled indices to create the balanced training set\n",
    "X_balanced = X[sampled_indices]\n",
    "y_balanced = y[sampled_indices]\n",
    "\n",
    "# Check the balance in y_train_balanced\n",
    "print(np.bincount(y_balanced))\n",
    "\n",
    "scaler = preprocessing.StandardScaler().fit(X_balanced)\n",
    "X_scaled = scaler.transform(X_balanced)\n",
    "\n",
    "\n",
    "X_train, X_test, y_train, y_test = train_test_split(\n",
    "        X_scaled, y_balanced, test_size=0.30, random_state=42, stratify = y_balanced)\n",
    "\n",
    "n_classes = len(np.unique(y_train))\n"
   ]
  },
  {
   "cell_type": "code",
   "execution_count": 161,
   "id": "848e8bbe-d100-4b42-8d35-8dea685d2dec",
   "metadata": {
    "colab": {
     "base_uri": "https://localhost:8080/"
    },
    "id": "848e8bbe-d100-4b42-8d35-8dea685d2dec",
    "outputId": "60cd7df8-4a7c-4e79-8327-e9dd442fcd32"
   },
   "outputs": [
    {
     "name": "stdout",
     "output_type": "stream",
     "text": [
      "Train accuracy: 0.79\n",
      "Test accuracy: 0.80\n"
     ]
    }
   ],
   "source": [
    "gmm = GaussianMixture(n_components=n_classes\n",
    "                    ,covariance_type='diag'\n",
    "                      # , init_params='random_from_data'\n",
    "                     )\n",
    "gmm.fit(X_train)\n",
    "y_train_pred = gmm.predict(X_train)\n",
    "train_accuracy = np.mean(y_train_pred == y_train) \n",
    "print( 'Train accuracy: %.2f' % train_accuracy)\n",
    "\n",
    "y_test_pred = gmm.predict(X_test)\n",
    "test_accuracy = np.mean(y_test_pred.ravel() == y_test.ravel())\n",
    "print('Test accuracy: %.2f' % test_accuracy)\n"
   ]
  },
  {
   "cell_type": "code",
   "execution_count": 162,
   "id": "ebSprCoAO50X",
   "metadata": {
    "colab": {
     "base_uri": "https://localhost:8080/"
    },
    "id": "ebSprCoAO50X",
    "outputId": "04aef182-912b-4415-82cb-1a5e1e451c71"
   },
   "outputs": [
    {
     "name": "stdout",
     "output_type": "stream",
     "text": [
      "Accuracy: 0.8049281314168378\n",
      "Precision: 0.8087318087318087\n",
      "Recall: 0.7987679671457906\n",
      "F1 Score: 0.8037190082644629\n"
     ]
    }
   ],
   "source": [
    "# Calculate metrics\n",
    "accuracy = accuracy_score(y_test, y_test_pred)\n",
    "precision = precision_score(y_test, y_test_pred)\n",
    "recall = recall_score(y_test, y_test_pred)\n",
    "f1 = f1_score(y_test, y_test_pred)\n",
    "# roc_auc = roc_auc_score(y_test, clf.predict_proba(X_test)[:, 1])\n",
    "\n",
    "# Print the metrics\n",
    "print(\"Accuracy:\", accuracy)\n",
    "print(\"Precision:\", precision)\n",
    "print(\"Recall:\", recall)\n",
    "print(\"F1 Score:\", f1)\n",
    "# print(\"AUC-ROC Score:\", roc_auc)"
   ]
  },
  {
   "cell_type": "code",
   "execution_count": 164,
   "id": "b0f29a0d-a490-4e1f-9443-a76ad90491a3",
   "metadata": {},
   "outputs": [
    {
     "data": {
      "text/html": [
       "<div>\n",
       "<style scoped>\n",
       "    .dataframe tbody tr th:only-of-type {\n",
       "        vertical-align: middle;\n",
       "    }\n",
       "\n",
       "    .dataframe tbody tr th {\n",
       "        vertical-align: top;\n",
       "    }\n",
       "\n",
       "    .dataframe thead th {\n",
       "        text-align: right;\n",
       "    }\n",
       "</style>\n",
       "<table border=\"1\" class=\"dataframe\">\n",
       "  <thead>\n",
       "    <tr style=\"text-align: right;\">\n",
       "      <th>actual</th>\n",
       "      <th>0</th>\n",
       "      <th>1</th>\n",
       "    </tr>\n",
       "    <tr>\n",
       "      <th>pred</th>\n",
       "      <th></th>\n",
       "      <th></th>\n",
       "    </tr>\n",
       "  </thead>\n",
       "  <tbody>\n",
       "    <tr>\n",
       "      <th>0</th>\n",
       "      <td>395</td>\n",
       "      <td>98</td>\n",
       "    </tr>\n",
       "    <tr>\n",
       "      <th>1</th>\n",
       "      <td>92</td>\n",
       "      <td>389</td>\n",
       "    </tr>\n",
       "  </tbody>\n",
       "</table>\n",
       "</div>"
      ],
      "text/plain": [
       "actual    0    1\n",
       "pred            \n",
       "0       395   98\n",
       "1        92  389"
      ]
     },
     "execution_count": 164,
     "metadata": {},
     "output_type": "execute_result"
    }
   ],
   "source": [
    "compare = pd.DataFrame({'actual':y_test, 'pred':y_test_pred})\n",
    "pd.crosstab(compare['pred'], compare['actual'])"
   ]
  },
  {
   "cell_type": "code",
   "execution_count": 171,
   "id": "SX0t_2g8wWhZ",
   "metadata": {
    "colab": {
     "base_uri": "https://localhost:8080/",
     "height": 641
    },
    "id": "SX0t_2g8wWhZ",
    "outputId": "dd2ead59-0373-4812-bdd4-06a22ecfdd39"
   },
   "outputs": [
    {
     "data": {
      "image/png": "[encoded data removed]",
      "text/plain": [
       "<Figure size 576x360 with 2 Axes>"
      ]
     },
     "metadata": {
      "needs_background": "light"
     },
     "output_type": "display_data"
    }
   ],
   "source": [
    "plot_confusion_matrix(y_test, y_test_pred, \"GMM\")"
   ]
  },
  {
   "cell_type": "code",
   "execution_count": 97,
   "id": "f88f451d-2abd-442f-baaa-c4679429cf24",
   "metadata": {},
   "outputs": [
    {
     "data": {
      "text/plain": [
       "array([[9.99999999e-01, 7.70222964e-10],\n",
       "       [9.86462685e-01, 1.35373147e-02],\n",
       "       [1.87975211e-08, 9.99999981e-01],\n",
       "       ...,\n",
       "       [1.00000000e+00, 4.63735144e-16],\n",
       "       [1.00000000e+00, 2.98963405e-26],\n",
       "       [1.00000000e+00, 1.71512365e-16]])"
      ]
     },
     "execution_count": 97,
     "metadata": {},
     "output_type": "execute_result"
    }
   ],
   "source": [
    "gmm.predict_proba(X_test)"
   ]
  },
  {
   "cell_type": "code",
   "execution_count": 102,
   "id": "9e4fb437-45ae-40c9-b755-49f78dcb3137",
   "metadata": {},
   "outputs": [
    {
     "data": {
      "text/plain": [
       "array([[9.99999999e-01, 7.70222964e-10],\n",
       "       [9.86462685e-01, 1.35373147e-02],\n",
       "       [1.87975211e-08, 9.99999981e-01],\n",
       "       ...,\n",
       "       [1.00000000e+00, 4.63735144e-16],\n",
       "       [1.00000000e+00, 2.98963405e-26],\n",
       "       [1.00000000e+00, 1.71512365e-16]])"
      ]
     },
     "execution_count": 102,
     "metadata": {},
     "output_type": "execute_result"
    }
   ],
   "source": [
    "gmm.predict_proba(X_test)"
   ]
  },
  {
   "cell_type": "code",
   "execution_count": 172,
   "id": "09f0c8db-30e7-4813-9a03-3657b413c602",
   "metadata": {},
   "outputs": [
    {
     "data": {
      "text/plain": [
       "<seaborn.axisgrid.FacetGrid at 0x14cfce83b460>"
      ]
     },
     "execution_count": 172,
     "metadata": {},
     "output_type": "execute_result"
    },
    {
     "data": {
      "image/png": "[encoded data removed]",
      "text/plain": [
       "<Figure size 402.375x360 with 1 Axes>"
      ]
     },
     "metadata": {
      "needs_background": "light"
     },
     "output_type": "display_data"
    }
   ],
   "source": [
    "df = pd.DataFrame({'prob':y_scores,'label':y_test })\n",
    "sns.displot(data=df, x='prob', hue='label', kde=True, palette='Set1')"
   ]
  },
  {
   "cell_type": "code",
   "execution_count": 166,
   "id": "eOnS5deFQmH5",
   "metadata": {
    "colab": {
     "base_uri": "https://localhost:8080/",
     "height": 564
    },
    "id": "eOnS5deFQmH5",
    "outputId": "1decb57b-eb9e-4c9c-c63e-3a20a6cf7fd3"
   },
   "outputs": [
    {
     "data": {
      "image/png": "[encoded data removed]",
      "text/plain": [
       "<Figure size 576x432 with 1 Axes>"
      ]
     },
     "metadata": {
      "needs_background": "light"
     },
     "output_type": "display_data"
    }
   ],
   "source": [
    "y_scores = gmm.predict_proba(X_test)[:, 1]\n",
    "# y_scores = gmm.predict(X_test)\n",
    "\n",
    "# Calculate precision and recall for various thresholds\n",
    "precision, recall, thresholds = precision_recall_curve(y_test, y_scores)\n",
    "\n",
    "# Plot precision-recall curve\n",
    "plt.figure(figsize=(8, 6))\n",
    "plt.plot(recall, precision, label='Precision-Recall curve')\n",
    "plt.xlabel('Recall')\n",
    "plt.ylabel('Precision')\n",
    "plt.title('Precision-Recall Curve')\n",
    "plt.legend()\n",
    "plt.show()"
   ]
  },
  {
   "cell_type": "code",
   "execution_count": 94,
   "id": "91d7e449-0dce-4d1d-b586-6e04c3bddf27",
   "metadata": {},
   "outputs": [
    {
     "name": "stdout",
     "output_type": "stream",
     "text": [
      "[2.00000000e+000 1.00000000e+000 9.99999999e-001 9.99999999e-001\n",
      " 9.99999996e-001 9.99999996e-001 9.99999992e-001 9.99999991e-001\n",
      " 9.99999991e-001 9.99999990e-001 9.99999989e-001 9.99999989e-001\n",
      " 9.99999986e-001 9.99999986e-001 9.99999984e-001 9.99999984e-001\n",
      " 9.99999983e-001 9.99999983e-001 9.99999981e-001 9.99999980e-001\n",
      " 9.99999975e-001 9.99999973e-001 9.99999972e-001 9.99999972e-001\n",
      " 9.99999969e-001 9.99999967e-001 9.99999965e-001 9.99999965e-001\n",
      " 9.99999964e-001 9.99999964e-001 9.99999960e-001 9.99999958e-001\n",
      " 9.99999958e-001 9.99999957e-001 9.99999956e-001 9.99999954e-001\n",
      " 9.99999953e-001 9.99999952e-001 9.99999950e-001 9.99999950e-001\n",
      " 9.99999950e-001 9.99999947e-001 9.99999942e-001 9.99999941e-001\n",
      " 9.99999939e-001 9.99999937e-001 9.99999936e-001 9.99999927e-001\n",
      " 9.99999921e-001 9.99999915e-001 9.99999909e-001 9.99999909e-001\n",
      " 9.99999899e-001 9.99999895e-001 9.99999893e-001 9.99999889e-001\n",
      " 9.99999879e-001 9.99999877e-001 9.99999876e-001 9.99999871e-001\n",
      " 9.99999868e-001 9.99999864e-001 9.99999864e-001 9.99999860e-001\n",
      " 9.99999857e-001 9.99999851e-001 9.99999845e-001 9.99999839e-001\n",
      " 9.99999816e-001 9.99999805e-001 9.99999800e-001 9.99999799e-001\n",
      " 9.99999793e-001 9.99999784e-001 9.99999757e-001 9.99999752e-001\n",
      " 9.99999747e-001 9.99999744e-001 9.99999738e-001 9.99999733e-001\n",
      " 9.99999733e-001 9.99999708e-001 9.99999704e-001 9.99999691e-001\n",
      " 9.99999690e-001 9.99999688e-001 9.99999688e-001 9.99999680e-001\n",
      " 9.99999679e-001 9.99999665e-001 9.99999660e-001 9.99999633e-001\n",
      " 9.99999616e-001 9.99999600e-001 9.99999593e-001 9.99999555e-001\n",
      " 9.99999529e-001 9.99999521e-001 9.99999520e-001 9.99999514e-001\n",
      " 9.99999508e-001 9.99999502e-001 9.99999490e-001 9.99999416e-001\n",
      " 9.99999415e-001 9.99999310e-001 9.99999273e-001 9.99999199e-001\n",
      " 9.99999163e-001 9.99999010e-001 9.99998983e-001 9.99998962e-001\n",
      " 9.99998911e-001 9.99998911e-001 9.99998893e-001 9.99998788e-001\n",
      " 9.99998767e-001 9.99998696e-001 9.99998649e-001 9.99998558e-001\n",
      " 9.99998557e-001 9.99998549e-001 9.99998531e-001 9.99998290e-001\n",
      " 9.99998143e-001 9.99997980e-001 9.99997958e-001 9.99997799e-001\n",
      " 9.99997764e-001 9.99997647e-001 9.99997630e-001 9.99997454e-001\n",
      " 9.99997410e-001 9.99997088e-001 9.99997054e-001 9.99997022e-001\n",
      " 9.99997015e-001 9.99996859e-001 9.99996853e-001 9.99996724e-001\n",
      " 9.99996622e-001 9.99996461e-001 9.99996414e-001 9.99995975e-001\n",
      " 9.99995801e-001 9.99995734e-001 9.99995447e-001 9.99995104e-001\n",
      " 9.99994968e-001 9.99994956e-001 9.99994873e-001 9.99994418e-001\n",
      " 9.99994402e-001 9.99992579e-001 9.99992364e-001 9.99992350e-001\n",
      " 9.99992132e-001 9.99991588e-001 9.99991234e-001 9.99990694e-001\n",
      " 9.99990112e-001 9.99989088e-001 9.99988141e-001 9.99988008e-001\n",
      " 9.99987471e-001 9.99986301e-001 9.99985010e-001 9.99984730e-001\n",
      " 9.99984513e-001 9.99984014e-001 9.99982895e-001 9.99980932e-001\n",
      " 9.99980656e-001 9.99980059e-001 9.99979894e-001 9.99978685e-001\n",
      " 9.99978665e-001 9.99976634e-001 9.99974478e-001 9.99969484e-001\n",
      " 9.99968686e-001 9.99962858e-001 9.99960952e-001 9.99957265e-001\n",
      " 9.99954825e-001 9.99946494e-001 9.99937683e-001 9.99926460e-001\n",
      " 9.99924551e-001 9.99922409e-001 9.99922314e-001 9.99896002e-001\n",
      " 9.99895698e-001 9.99893616e-001 9.99888129e-001 9.99885746e-001\n",
      " 9.99883147e-001 9.99882045e-001 9.99873769e-001 9.99870997e-001\n",
      " 9.99866445e-001 9.99813599e-001 9.99775588e-001 9.99766923e-001\n",
      " 9.99754129e-001 9.99736315e-001 9.99729794e-001 9.99712670e-001\n",
      " 9.99702958e-001 9.99699692e-001 9.99679415e-001 9.99631582e-001\n",
      " 9.99569754e-001 9.99563928e-001 9.99487137e-001 9.99485516e-001\n",
      " 9.99439344e-001 9.99425895e-001 9.99413215e-001 9.99394963e-001\n",
      " 9.99345362e-001 9.99319952e-001 9.99314135e-001 9.99309323e-001\n",
      " 9.99291963e-001 9.99040861e-001 9.99022992e-001 9.98849418e-001\n",
      " 9.98797846e-001 9.98407506e-001 9.98083135e-001 9.97703554e-001\n",
      " 9.97632388e-001 9.95607697e-001 9.95584682e-001 9.94588506e-001\n",
      " 9.94287011e-001 9.93527225e-001 9.92916379e-001 9.84961817e-001\n",
      " 9.79928262e-001 9.76456901e-001 9.74709746e-001 9.68877863e-001\n",
      " 9.66618668e-001 9.64306532e-001 9.62737805e-001 9.60695587e-001\n",
      " 9.57791556e-001 9.46254740e-001 9.45060269e-001 9.41009376e-001\n",
      " 9.22206011e-001 9.20374502e-001 9.02382467e-001 8.93188241e-001\n",
      " 8.72951789e-001 8.32307501e-001 8.07222568e-001 7.81673647e-001\n",
      " 7.49101992e-001 6.62585067e-001 6.11301245e-001 5.23928502e-001\n",
      " 5.07148898e-001 4.47955581e-001 4.05034296e-001 3.95869751e-001\n",
      " 3.82819856e-001 3.60769728e-001 3.42369166e-001 3.29885722e-001\n",
      " 2.71798588e-001 2.26714509e-001 2.16501521e-001 1.62461720e-001\n",
      " 1.43834271e-001 1.34187928e-001 1.33297438e-001 1.30029935e-001\n",
      " 1.13678458e-001 1.04838673e-001 1.03855194e-001 3.59298070e-002\n",
      " 3.37777583e-002 3.12613592e-002 2.44830844e-002 1.46931582e-002\n",
      " 1.43072121e-002 1.24578540e-002 1.22074803e-002 7.10382041e-003\n",
      " 7.00289522e-003 3.84564041e-003 3.83412512e-003 3.33494184e-003\n",
      " 3.23875607e-003 2.46312951e-003 2.39138275e-003 1.69486294e-003\n",
      " 1.66533131e-003 1.22655352e-003 1.19689067e-003 7.07429727e-004\n",
      " 6.94182851e-004 6.27586762e-004 6.11509553e-004 5.80975870e-004\n",
      " 5.31653868e-004 4.80233974e-004 4.23482569e-004 3.35276290e-004\n",
      " 3.14242140e-004 2.57280086e-004 2.41454816e-004 1.31022821e-004\n",
      " 1.28778690e-004 8.52120768e-005 7.27294199e-005 3.87015169e-005\n",
      " 3.71500939e-005 2.53723584e-005 2.10594482e-005 1.06870267e-005\n",
      " 1.06261611e-005 4.13522990e-006 3.49882676e-006 2.00108739e-006\n",
      " 1.89565129e-006 1.87069719e-006 1.79752602e-006 1.07395155e-006\n",
      " 9.69288511e-007 1.71036504e-007 1.48255567e-007 1.07037100e-007\n",
      " 1.02082947e-007 7.79123178e-008 7.67283390e-008 7.27117264e-008\n",
      " 6.57301538e-008 2.81413338e-008 2.49721008e-008 1.73301189e-008\n",
      " 1.71951687e-008 1.45961876e-008 1.40558109e-008 2.19188067e-009\n",
      " 1.99360691e-009 1.43199961e-009 1.37134372e-009 1.32823384e-009\n",
      " 1.30797041e-009 1.15800447e-009 1.07594996e-009 9.15788503e-010\n",
      " 8.83801289e-010 4.09025873e-010 3.75293025e-010 3.49427936e-010\n",
      " 3.27622967e-010 5.27188597e-011 5.18552519e-011 1.87374962e-011\n",
      " 1.82208812e-011 1.80122064e-011 1.71403379e-011 6.47797766e-012\n",
      " 5.80231537e-012 4.68915837e-012 4.59806420e-012 3.52209544e-012\n",
      " 3.34253445e-012 4.85719118e-013 4.62610606e-013 1.81762950e-014\n",
      " 1.73551123e-014 3.93692514e-015 3.83375649e-015 3.42214572e-015\n",
      " 3.32638902e-015 1.69339012e-015 1.43519868e-015 3.43708427e-016\n",
      " 3.26031512e-016 2.72131684e-016 2.67567516e-016 1.08701772e-017\n",
      " 1.03762233e-017 3.07998039e-019 2.70842843e-019 9.48130255e-020\n",
      " 8.60423672e-020 1.92516020e-020 1.74402275e-020 4.05228237e-021\n",
      " 2.64835410e-021 1.34419818e-021 1.31831260e-021 4.35253532e-022\n",
      " 3.97431543e-022 1.26273411e-024 1.24447831e-024 4.93266112e-030\n",
      " 4.50994949e-030 2.62188502e-037 2.58568684e-037 1.80327434e-042\n",
      " 1.62993858e-042 3.69221929e-047 3.02652540e-047 3.89186451e-049\n",
      " 3.88990590e-049 1.96833938e-051 9.17392042e-052 2.58089877e-057\n",
      " 2.35657246e-057 3.49665620e-162]\n"
     ]
    }
   ],
   "source": [
    "print(thresholds)"
   ]
  },
  {
   "cell_type": "code",
   "execution_count": 167,
   "id": "uC4eYrjMRMt5",
   "metadata": {
    "colab": {
     "base_uri": "https://localhost:8080/",
     "height": 472
    },
    "id": "uC4eYrjMRMt5",
    "outputId": "2e1f8a30-4550-448f-f0f2-3e7ef042a78e"
   },
   "outputs": [
    {
     "data": {
      "image/png": "[encoded data removed]",
      "text/plain": [
       "<Figure size 432x288 with 1 Axes>"
      ]
     },
     "metadata": {
      "needs_background": "light"
     },
     "output_type": "display_data"
    }
   ],
   "source": [
    "# Plot ROC curve\n",
    "fpr, tpr, thresholds = roc_curve(y_test, gmm.predict_proba(X_test)[:, 1])\n",
    "roc_auc = auc(fpr, tpr)\n",
    "\n",
    "plt.figure()\n",
    "plt.plot(fpr, tpr, color='darkorange', lw=2, label='ROC curve (AUC = %0.2f)' % roc_auc)\n",
    "plt.plot([0, 1], [0, 1], color='navy', lw=2, linestyle='--')\n",
    "plt.xlabel('False Positive Rate')\n",
    "plt.ylabel('True Positive Rate')\n",
    "plt.title('Receiver Operating Characteristic')\n",
    "plt.legend(loc=\"lower right\")\n",
    "plt.show()"
   ]
  }
 ],
 "metadata": {
  "colab": {
   "provenance": []
  },
  "kernelspec": {
   "display_name": "Python 3 (ipykernel)",
   "language": "python",
   "name": "python3"
  },
  "language_info": {
   "codemirror_mode": {
    "name": "ipython",
    "version": 3
   },
   "file_extension": ".py",
   "mimetype": "text/x-python",
   "name": "python",
   "nbconvert_exporter": "python",
   "pygments_lexer": "ipython3",
   "version": "3.10.6"
  }
 },
 "nbformat": 4,
 "nbformat_minor": 5
}
